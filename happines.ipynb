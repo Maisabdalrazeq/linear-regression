{
 "cells": [
  {
   "cell_type": "code",
   "execution_count": 1,
   "metadata": {},
   "outputs": [],
   "source": [
    "import pandas as pd\n",
    "import matplotlib.pyplot as plt\n",
    "import numpy as np\n",
    "from sklearn.linear_model import LinearRegression\n",
    "from sklearn.model_selection import train_test_split"
   ]
  },
  {
   "cell_type": "code",
   "execution_count": 3,
   "metadata": {},
   "outputs": [
    {
     "data": {
      "text/html": [
       "<div>\n",
       "<style scoped>\n",
       "    .dataframe tbody tr th:only-of-type {\n",
       "        vertical-align: middle;\n",
       "    }\n",
       "\n",
       "    .dataframe tbody tr th {\n",
       "        vertical-align: top;\n",
       "    }\n",
       "\n",
       "    .dataframe thead th {\n",
       "        text-align: right;\n",
       "    }\n",
       "</style>\n",
       "<table border=\"1\" class=\"dataframe\">\n",
       "  <thead>\n",
       "    <tr style=\"text-align: right;\">\n",
       "      <th></th>\n",
       "      <th>Overall rank</th>\n",
       "      <th>Country or region</th>\n",
       "      <th>Score</th>\n",
       "      <th>GDP per capita</th>\n",
       "      <th>Social support</th>\n",
       "      <th>Healthy life expectancy</th>\n",
       "      <th>Freedom to make life choices</th>\n",
       "      <th>Generosity</th>\n",
       "      <th>Perceptions of corruption</th>\n",
       "    </tr>\n",
       "  </thead>\n",
       "  <tbody>\n",
       "    <tr>\n",
       "      <th>0</th>\n",
       "      <td>1</td>\n",
       "      <td>Finland</td>\n",
       "      <td>7.769</td>\n",
       "      <td>1.340</td>\n",
       "      <td>1.587</td>\n",
       "      <td>0.986</td>\n",
       "      <td>0.596</td>\n",
       "      <td>0.153</td>\n",
       "      <td>0.393</td>\n",
       "    </tr>\n",
       "    <tr>\n",
       "      <th>1</th>\n",
       "      <td>2</td>\n",
       "      <td>Denmark</td>\n",
       "      <td>7.600</td>\n",
       "      <td>1.383</td>\n",
       "      <td>1.573</td>\n",
       "      <td>0.996</td>\n",
       "      <td>0.592</td>\n",
       "      <td>0.252</td>\n",
       "      <td>0.410</td>\n",
       "    </tr>\n",
       "    <tr>\n",
       "      <th>2</th>\n",
       "      <td>3</td>\n",
       "      <td>Norway</td>\n",
       "      <td>7.554</td>\n",
       "      <td>1.488</td>\n",
       "      <td>1.582</td>\n",
       "      <td>1.028</td>\n",
       "      <td>0.603</td>\n",
       "      <td>0.271</td>\n",
       "      <td>0.341</td>\n",
       "    </tr>\n",
       "    <tr>\n",
       "      <th>3</th>\n",
       "      <td>4</td>\n",
       "      <td>Iceland</td>\n",
       "      <td>7.494</td>\n",
       "      <td>1.380</td>\n",
       "      <td>1.624</td>\n",
       "      <td>1.026</td>\n",
       "      <td>0.591</td>\n",
       "      <td>0.354</td>\n",
       "      <td>0.118</td>\n",
       "    </tr>\n",
       "    <tr>\n",
       "      <th>4</th>\n",
       "      <td>5</td>\n",
       "      <td>Netherlands</td>\n",
       "      <td>7.488</td>\n",
       "      <td>1.396</td>\n",
       "      <td>1.522</td>\n",
       "      <td>0.999</td>\n",
       "      <td>0.557</td>\n",
       "      <td>0.322</td>\n",
       "      <td>0.298</td>\n",
       "    </tr>\n",
       "    <tr>\n",
       "      <th>...</th>\n",
       "      <td>...</td>\n",
       "      <td>...</td>\n",
       "      <td>...</td>\n",
       "      <td>...</td>\n",
       "      <td>...</td>\n",
       "      <td>...</td>\n",
       "      <td>...</td>\n",
       "      <td>...</td>\n",
       "      <td>...</td>\n",
       "    </tr>\n",
       "    <tr>\n",
       "      <th>151</th>\n",
       "      <td>152</td>\n",
       "      <td>Rwanda</td>\n",
       "      <td>3.334</td>\n",
       "      <td>0.359</td>\n",
       "      <td>0.711</td>\n",
       "      <td>0.614</td>\n",
       "      <td>0.555</td>\n",
       "      <td>0.217</td>\n",
       "      <td>0.411</td>\n",
       "    </tr>\n",
       "    <tr>\n",
       "      <th>152</th>\n",
       "      <td>153</td>\n",
       "      <td>Tanzania</td>\n",
       "      <td>3.231</td>\n",
       "      <td>0.476</td>\n",
       "      <td>0.885</td>\n",
       "      <td>0.499</td>\n",
       "      <td>0.417</td>\n",
       "      <td>0.276</td>\n",
       "      <td>0.147</td>\n",
       "    </tr>\n",
       "    <tr>\n",
       "      <th>153</th>\n",
       "      <td>154</td>\n",
       "      <td>Afghanistan</td>\n",
       "      <td>3.203</td>\n",
       "      <td>0.350</td>\n",
       "      <td>0.517</td>\n",
       "      <td>0.361</td>\n",
       "      <td>0.000</td>\n",
       "      <td>0.158</td>\n",
       "      <td>0.025</td>\n",
       "    </tr>\n",
       "    <tr>\n",
       "      <th>154</th>\n",
       "      <td>155</td>\n",
       "      <td>Central African Republic</td>\n",
       "      <td>3.083</td>\n",
       "      <td>0.026</td>\n",
       "      <td>0.000</td>\n",
       "      <td>0.105</td>\n",
       "      <td>0.225</td>\n",
       "      <td>0.235</td>\n",
       "      <td>0.035</td>\n",
       "    </tr>\n",
       "    <tr>\n",
       "      <th>155</th>\n",
       "      <td>156</td>\n",
       "      <td>South Sudan</td>\n",
       "      <td>2.853</td>\n",
       "      <td>0.306</td>\n",
       "      <td>0.575</td>\n",
       "      <td>0.295</td>\n",
       "      <td>0.010</td>\n",
       "      <td>0.202</td>\n",
       "      <td>0.091</td>\n",
       "    </tr>\n",
       "  </tbody>\n",
       "</table>\n",
       "<p>156 rows × 9 columns</p>\n",
       "</div>"
      ],
      "text/plain": [
       "     Overall rank         Country or region  Score  GDP per capita  \\\n",
       "0               1                   Finland  7.769           1.340   \n",
       "1               2                   Denmark  7.600           1.383   \n",
       "2               3                    Norway  7.554           1.488   \n",
       "3               4                   Iceland  7.494           1.380   \n",
       "4               5               Netherlands  7.488           1.396   \n",
       "..            ...                       ...    ...             ...   \n",
       "151           152                    Rwanda  3.334           0.359   \n",
       "152           153                  Tanzania  3.231           0.476   \n",
       "153           154               Afghanistan  3.203           0.350   \n",
       "154           155  Central African Republic  3.083           0.026   \n",
       "155           156               South Sudan  2.853           0.306   \n",
       "\n",
       "     Social support  Healthy life expectancy  Freedom to make life choices  \\\n",
       "0             1.587                    0.986                         0.596   \n",
       "1             1.573                    0.996                         0.592   \n",
       "2             1.582                    1.028                         0.603   \n",
       "3             1.624                    1.026                         0.591   \n",
       "4             1.522                    0.999                         0.557   \n",
       "..              ...                      ...                           ...   \n",
       "151           0.711                    0.614                         0.555   \n",
       "152           0.885                    0.499                         0.417   \n",
       "153           0.517                    0.361                         0.000   \n",
       "154           0.000                    0.105                         0.225   \n",
       "155           0.575                    0.295                         0.010   \n",
       "\n",
       "     Generosity  Perceptions of corruption  \n",
       "0         0.153                      0.393  \n",
       "1         0.252                      0.410  \n",
       "2         0.271                      0.341  \n",
       "3         0.354                      0.118  \n",
       "4         0.322                      0.298  \n",
       "..          ...                        ...  \n",
       "151       0.217                      0.411  \n",
       "152       0.276                      0.147  \n",
       "153       0.158                      0.025  \n",
       "154       0.235                      0.035  \n",
       "155       0.202                      0.091  \n",
       "\n",
       "[156 rows x 9 columns]"
      ]
     },
     "execution_count": 3,
     "metadata": {},
     "output_type": "execute_result"
    }
   ],
   "source": [
    "happy = pd.read_csv('Happiness.csv').dropna()\n",
    "happy"
   ]
  },
  {
   "cell_type": "markdown",
   "metadata": {},
   "source": [
    "# conclusion 3"
   ]
  },
  {
   "cell_type": "markdown",
   "metadata": {},
   "source": [
    "# Select features to build the model"
   ]
  },
  {
   "cell_type": "code",
   "execution_count": 5,
   "metadata": {},
   "outputs": [
    {
     "data": {
      "text/plain": [
       "array([7.769, 7.6  , 7.554, 7.494, 7.488, 7.48 , 7.343, 7.307, 7.278,\n",
       "       7.246, 7.228, 7.167, 7.139, 7.09 , 7.054, 7.021, 6.985, 6.923,\n",
       "       6.892, 6.852, 6.825, 6.726, 6.595, 6.592, 6.446, 6.444, 6.436,\n",
       "       6.375, 6.374, 6.354, 6.321, 6.3  , 6.293, 6.262, 6.253, 6.223,\n",
       "       6.199, 6.198, 6.192, 6.182, 6.174, 6.149, 6.125, 6.118, 6.105,\n",
       "       6.1  , 6.086, 6.07 , 6.046, 6.028, 6.021, 6.008, 5.94 , 5.895,\n",
       "       5.893, 5.89 , 5.888, 5.886, 5.86 , 5.809, 5.779, 5.758, 5.743,\n",
       "       5.718, 5.697, 5.693, 5.653, 5.648, 5.631, 5.603, 5.529, 5.525,\n",
       "       5.523, 5.467, 5.432, 5.43 , 5.425, 5.386, 5.373, 5.339, 5.323,\n",
       "       5.287, 5.285, 5.274, 5.265, 5.261, 5.247, 5.211, 5.208, 5.208,\n",
       "       5.197, 5.192, 5.191, 5.175, 5.082, 5.044, 5.011, 4.996, 4.944,\n",
       "       4.913, 4.906, 4.883, 4.812, 4.799, 4.796, 4.722, 4.719, 4.707,\n",
       "       4.7  , 4.696, 4.681, 4.668, 4.639, 4.628, 4.587, 4.559, 4.548,\n",
       "       4.534, 4.519, 4.516, 4.509, 4.49 , 4.466, 4.461, 4.456, 4.437,\n",
       "       4.418, 4.39 , 4.374, 4.366, 4.36 , 4.35 , 4.332, 4.286, 4.212,\n",
       "       4.189, 4.166, 4.107, 4.085, 4.015, 3.975, 3.973, 3.933, 3.802,\n",
       "       3.775, 3.663, 3.597, 3.488, 3.462, 3.41 , 3.38 , 3.334, 3.231,\n",
       "       3.203, 3.083, 2.853])"
      ]
     },
     "execution_count": 5,
     "metadata": {},
     "output_type": "execute_result"
    }
   ],
   "source": [
    "X = happy['Score'].values\n",
    "X"
   ]
  },
  {
   "cell_type": "code",
   "execution_count": 6,
   "metadata": {},
   "outputs": [
    {
     "data": {
      "text/plain": [
       "array([1.587, 1.573, 1.582, 1.624, 1.522, 1.526, 1.487, 1.557, 1.505,\n",
       "       1.475, 1.548, 1.441, 1.455, 1.479, 1.538, 1.553, 1.454, 1.504,\n",
       "       1.457, 1.487, 1.31 , 1.52 , 1.323, 1.472, 1.43 , 1.369, 1.269,\n",
       "       1.357, 1.313, 1.484, 1.442, 1.439, 1.465, 1.463, 1.242, 1.488,\n",
       "       1.368, 1.504, 1.477, 1.438, 1.529, 1.515, 1.41 , 1.523, 1.325,\n",
       "       1.232, 1.432, 1.232, 1.223, 1.312, 1.319, 1.409, 1.465, 1.219,\n",
       "       1.528, 1.478, 1.402, 1.419, 1.236, 1.508, 1.209, 1.41 , 1.475,\n",
       "       1.252, 1.274, 1.431, 0.886, 1.452, 1.293, 1.383, 1.328, 1.303,\n",
       "       1.361, 1.098, 1.266, 1.277, 1.401, 1.212, 1.36 , 1.171, 1.465,\n",
       "       1.156, 1.531, 1.294, 1.111, 1.438, 1.538, 1.16 , 0.782, 1.147,\n",
       "       1.224, 1.203, 1.125, 1.346, 1.321, 0.91 , 1.513, 0.868, 0.808,\n",
       "       1.226, 1.225, 0.437, 0.799, 1.183, 1.03 , 1.351, 0.848, 1.427,\n",
       "       1.122, 1.247, 1.134, 0.698, 1.313, 0.774, 1.056, 1.055, 0.842,\n",
       "       0.829, 0.666, 0.939, 0.983, 1.167, 0.986, 1.   , 0.928, 0.98 ,\n",
       "       1.125, 1.105, 0.841, 1.265, 1.181, 0.766, 1.39 , 1.033, 1.149,\n",
       "       1.069, 1.039, 1.058, 0.572, 0.765, 0.922, 0.757, 0.916, 1.169,\n",
       "       0.447, 1.114, 0.688, 1.145, 0.378, 0.56 , 1.163, 0.711, 0.885,\n",
       "       0.517, 0.   , 0.575])"
      ]
     },
     "execution_count": 6,
     "metadata": {},
     "output_type": "execute_result"
    }
   ],
   "source": [
    "Y = happy['Social support'].values\n",
    "Y"
   ]
  },
  {
   "cell_type": "markdown",
   "metadata": {},
   "source": [
    "# Reshape X data"
   ]
  },
  {
   "cell_type": "code",
   "execution_count": 7,
   "metadata": {},
   "outputs": [
    {
     "data": {
      "text/plain": [
       "array([[7.769],\n",
       "       [7.6  ],\n",
       "       [7.554],\n",
       "       [7.494],\n",
       "       [7.488],\n",
       "       [7.48 ],\n",
       "       [7.343],\n",
       "       [7.307],\n",
       "       [7.278],\n",
       "       [7.246],\n",
       "       [7.228],\n",
       "       [7.167],\n",
       "       [7.139],\n",
       "       [7.09 ],\n",
       "       [7.054],\n",
       "       [7.021],\n",
       "       [6.985],\n",
       "       [6.923],\n",
       "       [6.892],\n",
       "       [6.852],\n",
       "       [6.825],\n",
       "       [6.726],\n",
       "       [6.595],\n",
       "       [6.592],\n",
       "       [6.446],\n",
       "       [6.444],\n",
       "       [6.436],\n",
       "       [6.375],\n",
       "       [6.374],\n",
       "       [6.354],\n",
       "       [6.321],\n",
       "       [6.3  ],\n",
       "       [6.293],\n",
       "       [6.262],\n",
       "       [6.253],\n",
       "       [6.223],\n",
       "       [6.199],\n",
       "       [6.198],\n",
       "       [6.192],\n",
       "       [6.182],\n",
       "       [6.174],\n",
       "       [6.149],\n",
       "       [6.125],\n",
       "       [6.118],\n",
       "       [6.105],\n",
       "       [6.1  ],\n",
       "       [6.086],\n",
       "       [6.07 ],\n",
       "       [6.046],\n",
       "       [6.028],\n",
       "       [6.021],\n",
       "       [6.008],\n",
       "       [5.94 ],\n",
       "       [5.895],\n",
       "       [5.893],\n",
       "       [5.89 ],\n",
       "       [5.888],\n",
       "       [5.886],\n",
       "       [5.86 ],\n",
       "       [5.809],\n",
       "       [5.779],\n",
       "       [5.758],\n",
       "       [5.743],\n",
       "       [5.718],\n",
       "       [5.697],\n",
       "       [5.693],\n",
       "       [5.653],\n",
       "       [5.648],\n",
       "       [5.631],\n",
       "       [5.603],\n",
       "       [5.529],\n",
       "       [5.525],\n",
       "       [5.523],\n",
       "       [5.467],\n",
       "       [5.432],\n",
       "       [5.43 ],\n",
       "       [5.425],\n",
       "       [5.386],\n",
       "       [5.373],\n",
       "       [5.339],\n",
       "       [5.323],\n",
       "       [5.287],\n",
       "       [5.285],\n",
       "       [5.274],\n",
       "       [5.265],\n",
       "       [5.261],\n",
       "       [5.247],\n",
       "       [5.211],\n",
       "       [5.208],\n",
       "       [5.208],\n",
       "       [5.197],\n",
       "       [5.192],\n",
       "       [5.191],\n",
       "       [5.175],\n",
       "       [5.082],\n",
       "       [5.044],\n",
       "       [5.011],\n",
       "       [4.996],\n",
       "       [4.944],\n",
       "       [4.913],\n",
       "       [4.906],\n",
       "       [4.883],\n",
       "       [4.812],\n",
       "       [4.799],\n",
       "       [4.796],\n",
       "       [4.722],\n",
       "       [4.719],\n",
       "       [4.707],\n",
       "       [4.7  ],\n",
       "       [4.696],\n",
       "       [4.681],\n",
       "       [4.668],\n",
       "       [4.639],\n",
       "       [4.628],\n",
       "       [4.587],\n",
       "       [4.559],\n",
       "       [4.548],\n",
       "       [4.534],\n",
       "       [4.519],\n",
       "       [4.516],\n",
       "       [4.509],\n",
       "       [4.49 ],\n",
       "       [4.466],\n",
       "       [4.461],\n",
       "       [4.456],\n",
       "       [4.437],\n",
       "       [4.418],\n",
       "       [4.39 ],\n",
       "       [4.374],\n",
       "       [4.366],\n",
       "       [4.36 ],\n",
       "       [4.35 ],\n",
       "       [4.332],\n",
       "       [4.286],\n",
       "       [4.212],\n",
       "       [4.189],\n",
       "       [4.166],\n",
       "       [4.107],\n",
       "       [4.085],\n",
       "       [4.015],\n",
       "       [3.975],\n",
       "       [3.973],\n",
       "       [3.933],\n",
       "       [3.802],\n",
       "       [3.775],\n",
       "       [3.663],\n",
       "       [3.597],\n",
       "       [3.488],\n",
       "       [3.462],\n",
       "       [3.41 ],\n",
       "       [3.38 ],\n",
       "       [3.334],\n",
       "       [3.231],\n",
       "       [3.203],\n",
       "       [3.083],\n",
       "       [2.853]])"
      ]
     },
     "execution_count": 7,
     "metadata": {},
     "output_type": "execute_result"
    }
   ],
   "source": [
    "X = X.reshape(-1,1)\n",
    "X"
   ]
  },
  {
   "cell_type": "markdown",
   "metadata": {},
   "source": [
    "# Split data into train and test"
   ]
  },
  {
   "cell_type": "code",
   "execution_count": 8,
   "metadata": {},
   "outputs": [],
   "source": [
    "x_train, x_test, y_train, y_test = train_test_split(X, Y, train_size=0.8, test_size=0.2, random_state=100)"
   ]
  },
  {
   "cell_type": "markdown",
   "metadata": {},
   "source": [
    "# plot the training data - Visualization purposes"
   ]
  },
  {
   "cell_type": "code",
   "execution_count": 9,
   "metadata": {},
   "outputs": [
    {
     "data": {
      "image/png": "[encoded data removed]",
      "text/plain": [
       "<Figure size 432x288 with 1 Axes>"
      ]
     },
     "metadata": {
      "needs_background": "light"
     },
     "output_type": "display_data"
    }
   ],
   "source": [
    "%matplotlib inline\n",
    "plt.scatter(x_train, y_train, color='grey')\n",
    "plt.xlabel('Score')\n",
    "plt.ylabel('Social support')\n",
    "plt.title('Training Data')\n",
    "plt.show()"
   ]
  },
  {
   "cell_type": "code",
   "execution_count": 10,
   "metadata": {},
   "outputs": [
    {
     "data": {
      "text/plain": [
       "array([[3.231],\n",
       "       [4.456],\n",
       "       [7.139],\n",
       "       [6.985],\n",
       "       [5.743],\n",
       "       [4.418],\n",
       "       [3.973],\n",
       "       [3.41 ],\n",
       "       [3.933],\n",
       "       [4.519],\n",
       "       [4.796],\n",
       "       [4.548],\n",
       "       [5.467],\n",
       "       [4.719],\n",
       "       [5.287],\n",
       "       [6.198],\n",
       "       [7.343],\n",
       "       [6.444],\n",
       "       [6.726],\n",
       "       [4.587],\n",
       "       [5.43 ],\n",
       "       [7.246],\n",
       "       [6.592],\n",
       "       [6.223],\n",
       "       [4.628],\n",
       "       [5.197],\n",
       "       [4.189],\n",
       "       [5.208],\n",
       "       [4.559],\n",
       "       [4.35 ],\n",
       "       [4.49 ],\n",
       "       [4.374],\n",
       "       [4.166],\n",
       "       [6.595],\n",
       "       [5.603],\n",
       "       [4.015],\n",
       "       [6.262],\n",
       "       [6.125],\n",
       "       [4.534],\n",
       "       [7.48 ],\n",
       "       [6.199],\n",
       "       [6.118],\n",
       "       [5.94 ],\n",
       "       [4.212],\n",
       "       [4.516],\n",
       "       [3.975],\n",
       "       [7.228],\n",
       "       [3.38 ],\n",
       "       [5.285],\n",
       "       [5.529],\n",
       "       [7.494],\n",
       "       [5.425],\n",
       "       [5.886],\n",
       "       [5.044],\n",
       "       [7.769],\n",
       "       [5.373],\n",
       "       [5.191],\n",
       "       [5.274],\n",
       "       [6.021],\n",
       "       [5.631],\n",
       "       [4.913],\n",
       "       [4.996],\n",
       "       [4.696],\n",
       "       [7.09 ],\n",
       "       [5.523],\n",
       "       [6.923],\n",
       "       [5.432],\n",
       "       [4.639],\n",
       "       [3.802],\n",
       "       [4.681],\n",
       "       [5.697],\n",
       "       [6.892],\n",
       "       [6.105],\n",
       "       [6.192],\n",
       "       [6.182],\n",
       "       [4.437],\n",
       "       [6.046],\n",
       "       [6.321],\n",
       "       [5.888],\n",
       "       [6.375],\n",
       "       [3.597],\n",
       "       [5.718],\n",
       "       [3.488],\n",
       "       [6.852],\n",
       "       [3.462],\n",
       "       [4.722],\n",
       "       [7.554],\n",
       "       [5.323],\n",
       "       [5.525],\n",
       "       [5.89 ],\n",
       "       [3.775],\n",
       "       [5.758],\n",
       "       [5.693],\n",
       "       [6.07 ],\n",
       "       [6.028],\n",
       "       [7.307],\n",
       "       [3.203],\n",
       "       [5.192],\n",
       "       [7.488],\n",
       "       [4.906],\n",
       "       [4.366],\n",
       "       [4.332],\n",
       "       [4.7  ],\n",
       "       [4.36 ],\n",
       "       [5.247],\n",
       "       [5.175],\n",
       "       [4.107],\n",
       "       [5.86 ],\n",
       "       [5.779],\n",
       "       [4.707],\n",
       "       [3.083],\n",
       "       [6.253],\n",
       "       [7.054],\n",
       "       [5.653],\n",
       "       [5.895],\n",
       "       [4.944],\n",
       "       [5.082],\n",
       "       [4.085],\n",
       "       [5.339],\n",
       "       [5.211],\n",
       "       [4.799],\n",
       "       [5.648],\n",
       "       [6.446],\n",
       "       [7.278]])"
      ]
     },
     "execution_count": 10,
     "metadata": {},
     "output_type": "execute_result"
    }
   ],
   "source": [
    "x_train"
   ]
  },
  {
   "cell_type": "code",
   "execution_count": 11,
   "metadata": {},
   "outputs": [
    {
     "data": {
      "text/plain": [
       "array([0.885, 0.928, 1.455, 1.454, 1.475, 1.125, 0.757, 0.56 , 0.916,\n",
       "       0.666, 1.03 , 0.842, 1.098, 0.848, 1.156, 1.504, 1.487, 1.369,\n",
       "       1.52 , 1.056, 1.277, 1.475, 1.472, 1.488, 0.774, 1.224, 1.069,\n",
       "       0.782, 1.055, 0.766, 1.167, 0.841, 1.039, 1.323, 1.383, 0.765,\n",
       "       1.463, 1.41 , 0.829, 1.526, 1.368, 1.523, 1.465, 1.149, 0.939,\n",
       "       0.922, 1.548, 1.163, 1.531, 1.328, 1.624, 1.401, 1.419, 0.91 ,\n",
       "       1.587, 1.36 , 1.125, 1.294, 1.319, 1.293, 1.226, 0.868, 1.247,\n",
       "       1.479, 1.361, 1.504, 1.266, 1.313, 1.169, 1.134, 1.274, 1.457,\n",
       "       1.325, 1.477, 1.438, 0.98 , 1.223, 1.442, 1.402, 1.357, 0.688,\n",
       "       1.252, 1.145, 1.487, 0.378, 1.351, 1.582, 1.465, 1.303, 1.478,\n",
       "       0.447, 1.41 , 1.431, 1.232, 1.312, 1.557, 0.517, 1.203, 1.522,\n",
       "       1.225, 1.265, 1.39 , 1.122, 1.181, 1.538, 1.346, 1.058, 1.236,\n",
       "       1.209, 1.427, 0.   , 1.242, 1.538, 0.886, 1.219, 0.808, 1.321,\n",
       "       0.572, 1.171, 1.16 , 1.183, 1.452, 1.43 , 1.505])"
      ]
     },
     "execution_count": 11,
     "metadata": {},
     "output_type": "execute_result"
    }
   ],
   "source": [
    "y_train"
   ]
  },
  {
   "cell_type": "markdown",
   "metadata": {},
   "source": [
    "# Linear Regression Model"
   ]
  },
  {
   "cell_type": "code",
   "execution_count": 12,
   "metadata": {},
   "outputs": [
    {
     "data": {
      "text/plain": [
       "LinearRegression()"
      ]
     },
     "execution_count": 12,
     "metadata": {},
     "output_type": "execute_result"
    }
   ],
   "source": [
    "\n",
    "model = LinearRegression()\n",
    "model.fit(x_train, y_train)\n",
    "model"
   ]
  },
  {
   "cell_type": "code",
   "execution_count": 13,
   "metadata": {},
   "outputs": [
    {
     "data": {
      "text/plain": [
       "array([1.35516082, 1.57753166, 1.01462291, 1.54710416, 0.99878394,\n",
       "       1.05672123, 0.97710955, 1.66777212, 1.10152885, 1.33598733,\n",
       "       1.39684233, 1.12820502, 1.42518575, 1.40809633, 1.02358443,\n",
       "       1.20635784, 1.36537279, 1.37058298, 1.29451423, 1.08673192,\n",
       "       1.31202046, 1.39538347, 1.18114053, 0.84727166, 1.35224311,\n",
       "       0.67846156, 0.77870558, 1.50625628, 1.41226448, 1.1692613 ,\n",
       "       1.01358087, 1.1803069 ])"
      ]
     },
     "execution_count": 13,
     "metadata": {},
     "output_type": "execute_result"
    }
   ],
   "source": [
    "y_predict = model.predict(x_test)\n",
    "y_predict"
   ]
  },
  {
   "cell_type": "code",
   "execution_count": 14,
   "metadata": {},
   "outputs": [
    {
     "data": {
      "text/plain": [
       "array([1.232, 1.441, 0.986, 1.553, 1.105, 0.698, 1.033, 1.573, 0.437,\n",
       "       1.409, 1.439, 1.513, 1.269, 1.484, 0.983, 1.212, 1.515, 1.529,\n",
       "       1.508, 0.799, 1.528, 1.465, 1.111, 1.114, 1.432, 0.575, 0.711,\n",
       "       1.31 , 1.313, 1.147, 1.   , 1.438])"
      ]
     },
     "execution_count": 14,
     "metadata": {},
     "output_type": "execute_result"
    }
   ],
   "source": [
    "y_test"
   ]
  },
  {
   "cell_type": "code",
   "execution_count": 15,
   "metadata": {},
   "outputs": [
    {
     "name": "stdout",
     "output_type": "stream",
     "text": [
      "Testing Accuracy: 58.533915000502226%\n"
     ]
    }
   ],
   "source": [
    "print(f'Testing Accuracy: {model.score(x_test, y_test)*100}%')"
   ]
  },
  {
   "cell_type": "code",
   "execution_count": 16,
   "metadata": {},
   "outputs": [
    {
     "name": "stdout",
     "output_type": "stream",
     "text": [
      "Training Accuracy: 60.88751920483298%\n"
     ]
    }
   ],
   "source": [
    "print(f'Training Accuracy: {model.score(x_train, y_train)*100}%')"
   ]
  },
  {
   "cell_type": "code",
   "execution_count": 17,
   "metadata": {},
   "outputs": [
    {
     "data": {
      "image/png": "[encoded data removed]",
      "text/plain": [
       "<Figure size 432x288 with 1 Axes>"
      ]
     },
     "metadata": {
      "needs_background": "light"
     },
     "output_type": "display_data"
    }
   ],
   "source": [
    "%matplotlib inline\n",
    "plt.scatter(x_train, y_train, color='blue')\n",
    "plt.scatter(x_test, y_test, color='black')\n",
    "plt.plot(x_test, y_predict, color='red')\n",
    "plt.xlabel('Score')\n",
    "plt.ylabel('Social support')\n",
    "plt.title('Training Data')\n",
    "plt.show()"
   ]
  },
  {
   "cell_type": "code",
   "execution_count": null,
   "metadata": {},
   "outputs": [],
   "source": [
    "- the more social support you have , the happiest you become\n",
    "- Test accuracy is about 58 % while train accuracy is about 60 %"
   ]
  }
 ],
 "metadata": {
  "kernelspec": {
   "display_name": "Python 3",
   "language": "python",
   "name": "python3"
  },
  "language_info": {
   "codemirror_mode": {
    "name": "ipython",
    "version": 3
   },
   "file_extension": ".py",
   "mimetype": "text/x-python",
   "name": "python",
   "nbconvert_exporter": "python",
   "pygments_lexer": "ipython3",
   "version": "3.9.0"
  }
 },
 "nbformat": 4,
 "nbformat_minor": 4
}
