{
 "cells": [
  {
   "cell_type": "code",
   "execution_count": 18,
   "metadata": {},
   "outputs": [],
   "source": [
    "import pandas as pd\n",
    "import matplotlib.pyplot as plt\n",
    "import numpy as np\n",
    "from sklearn.linear_model import LinearRegression\n",
    "from sklearn.model_selection import train_test_split"
   ]
  },
  {
   "cell_type": "code",
   "execution_count": 20,
   "metadata": {},
   "outputs": [
    {
     "data": {
      "text/html": [
       "<div>\n",
       "<style scoped>\n",
       "    .dataframe tbody tr th:only-of-type {\n",
       "        vertical-align: middle;\n",
       "    }\n",
       "\n",
       "    .dataframe tbody tr th {\n",
       "        vertical-align: top;\n",
       "    }\n",
       "\n",
       "    .dataframe thead th {\n",
       "        text-align: right;\n",
       "    }\n",
       "</style>\n",
       "<table border=\"1\" class=\"dataframe\">\n",
       "  <thead>\n",
       "    <tr style=\"text-align: right;\">\n",
       "      <th></th>\n",
       "      <th>Brand</th>\n",
       "      <th>Price</th>\n",
       "      <th>Body</th>\n",
       "      <th>Mileage</th>\n",
       "      <th>EngineV</th>\n",
       "      <th>Engine Type</th>\n",
       "      <th>Registration</th>\n",
       "      <th>Year</th>\n",
       "      <th>Model</th>\n",
       "    </tr>\n",
       "  </thead>\n",
       "  <tbody>\n",
       "    <tr>\n",
       "      <th>0</th>\n",
       "      <td>BMW</td>\n",
       "      <td>4200.0</td>\n",
       "      <td>sedan</td>\n",
       "      <td>277</td>\n",
       "      <td>2.0</td>\n",
       "      <td>Petrol</td>\n",
       "      <td>yes</td>\n",
       "      <td>1991</td>\n",
       "      <td>320</td>\n",
       "    </tr>\n",
       "    <tr>\n",
       "      <th>1</th>\n",
       "      <td>Mercedes-Benz</td>\n",
       "      <td>7900.0</td>\n",
       "      <td>van</td>\n",
       "      <td>427</td>\n",
       "      <td>2.9</td>\n",
       "      <td>Diesel</td>\n",
       "      <td>yes</td>\n",
       "      <td>1999</td>\n",
       "      <td>Sprinter 212</td>\n",
       "    </tr>\n",
       "    <tr>\n",
       "      <th>2</th>\n",
       "      <td>Mercedes-Benz</td>\n",
       "      <td>13300.0</td>\n",
       "      <td>sedan</td>\n",
       "      <td>358</td>\n",
       "      <td>5.0</td>\n",
       "      <td>Gas</td>\n",
       "      <td>yes</td>\n",
       "      <td>2003</td>\n",
       "      <td>S 500</td>\n",
       "    </tr>\n",
       "    <tr>\n",
       "      <th>3</th>\n",
       "      <td>Audi</td>\n",
       "      <td>23000.0</td>\n",
       "      <td>crossover</td>\n",
       "      <td>240</td>\n",
       "      <td>4.2</td>\n",
       "      <td>Petrol</td>\n",
       "      <td>yes</td>\n",
       "      <td>2007</td>\n",
       "      <td>Q7</td>\n",
       "    </tr>\n",
       "    <tr>\n",
       "      <th>4</th>\n",
       "      <td>Toyota</td>\n",
       "      <td>18300.0</td>\n",
       "      <td>crossover</td>\n",
       "      <td>120</td>\n",
       "      <td>2.0</td>\n",
       "      <td>Petrol</td>\n",
       "      <td>yes</td>\n",
       "      <td>2011</td>\n",
       "      <td>Rav 4</td>\n",
       "    </tr>\n",
       "    <tr>\n",
       "      <th>...</th>\n",
       "      <td>...</td>\n",
       "      <td>...</td>\n",
       "      <td>...</td>\n",
       "      <td>...</td>\n",
       "      <td>...</td>\n",
       "      <td>...</td>\n",
       "      <td>...</td>\n",
       "      <td>...</td>\n",
       "      <td>...</td>\n",
       "    </tr>\n",
       "    <tr>\n",
       "      <th>4339</th>\n",
       "      <td>Toyota</td>\n",
       "      <td>17900.0</td>\n",
       "      <td>sedan</td>\n",
       "      <td>35</td>\n",
       "      <td>1.6</td>\n",
       "      <td>Petrol</td>\n",
       "      <td>yes</td>\n",
       "      <td>2014</td>\n",
       "      <td>Corolla</td>\n",
       "    </tr>\n",
       "    <tr>\n",
       "      <th>4340</th>\n",
       "      <td>Mercedes-Benz</td>\n",
       "      <td>125000.0</td>\n",
       "      <td>sedan</td>\n",
       "      <td>9</td>\n",
       "      <td>3.0</td>\n",
       "      <td>Diesel</td>\n",
       "      <td>yes</td>\n",
       "      <td>2014</td>\n",
       "      <td>S 350</td>\n",
       "    </tr>\n",
       "    <tr>\n",
       "      <th>4341</th>\n",
       "      <td>BMW</td>\n",
       "      <td>6500.0</td>\n",
       "      <td>sedan</td>\n",
       "      <td>1</td>\n",
       "      <td>3.5</td>\n",
       "      <td>Petrol</td>\n",
       "      <td>yes</td>\n",
       "      <td>1999</td>\n",
       "      <td>535</td>\n",
       "    </tr>\n",
       "    <tr>\n",
       "      <th>4342</th>\n",
       "      <td>BMW</td>\n",
       "      <td>8000.0</td>\n",
       "      <td>sedan</td>\n",
       "      <td>194</td>\n",
       "      <td>2.0</td>\n",
       "      <td>Petrol</td>\n",
       "      <td>yes</td>\n",
       "      <td>1985</td>\n",
       "      <td>520</td>\n",
       "    </tr>\n",
       "    <tr>\n",
       "      <th>4344</th>\n",
       "      <td>Volkswagen</td>\n",
       "      <td>13500.0</td>\n",
       "      <td>van</td>\n",
       "      <td>124</td>\n",
       "      <td>2.0</td>\n",
       "      <td>Diesel</td>\n",
       "      <td>yes</td>\n",
       "      <td>2013</td>\n",
       "      <td>T5 (Transporter)</td>\n",
       "    </tr>\n",
       "  </tbody>\n",
       "</table>\n",
       "<p>4025 rows × 9 columns</p>\n",
       "</div>"
      ],
      "text/plain": [
       "              Brand     Price       Body  Mileage  EngineV Engine Type  \\\n",
       "0               BMW    4200.0      sedan      277      2.0      Petrol   \n",
       "1     Mercedes-Benz    7900.0        van      427      2.9      Diesel   \n",
       "2     Mercedes-Benz   13300.0      sedan      358      5.0         Gas   \n",
       "3              Audi   23000.0  crossover      240      4.2      Petrol   \n",
       "4            Toyota   18300.0  crossover      120      2.0      Petrol   \n",
       "...             ...       ...        ...      ...      ...         ...   \n",
       "4339         Toyota   17900.0      sedan       35      1.6      Petrol   \n",
       "4340  Mercedes-Benz  125000.0      sedan        9      3.0      Diesel   \n",
       "4341            BMW    6500.0      sedan        1      3.5      Petrol   \n",
       "4342            BMW    8000.0      sedan      194      2.0      Petrol   \n",
       "4344     Volkswagen   13500.0        van      124      2.0      Diesel   \n",
       "\n",
       "     Registration  Year              Model  \n",
       "0             yes  1991                320  \n",
       "1             yes  1999       Sprinter 212  \n",
       "2             yes  2003              S 500  \n",
       "3             yes  2007                 Q7  \n",
       "4             yes  2011              Rav 4  \n",
       "...           ...   ...                ...  \n",
       "4339          yes  2014            Corolla  \n",
       "4340          yes  2014              S 350  \n",
       "4341          yes  1999                535  \n",
       "4342          yes  1985                520  \n",
       "4344          yes  2013  T5 (Transporter)   \n",
       "\n",
       "[4025 rows x 9 columns]"
      ]
     },
     "execution_count": 20,
     "metadata": {},
     "output_type": "execute_result"
    }
   ],
   "source": [
    "cars = pd.read_csv('cars.csv').dropna()\n",
    "cars"
   ]
  },
  {
   "cell_type": "markdown",
   "metadata": {},
   "source": [
    "# conclusion 1"
   ]
  },
  {
   "cell_type": "markdown",
   "metadata": {},
   "source": [
    "# Select features to build the model"
   ]
  },
  {
   "cell_type": "code",
   "execution_count": 21,
   "metadata": {},
   "outputs": [
    {
     "data": {
      "text/plain": [
       "array([277, 427, 358, ...,   1, 194, 124])"
      ]
     },
     "execution_count": 21,
     "metadata": {},
     "output_type": "execute_result"
    }
   ],
   "source": [
    "X = cars['Mileage'].values\n",
    "X"
   ]
  },
  {
   "cell_type": "code",
   "execution_count": 22,
   "metadata": {},
   "outputs": [
    {
     "data": {
      "text/plain": [
       "array([ 4200.,  7900., 13300., ...,  6500.,  8000., 13500.])"
      ]
     },
     "execution_count": 22,
     "metadata": {},
     "output_type": "execute_result"
    }
   ],
   "source": [
    "Y = cars['Price'].values\n",
    "Y"
   ]
  },
  {
   "cell_type": "markdown",
   "metadata": {},
   "source": [
    "# Reshape X data"
   ]
  },
  {
   "cell_type": "code",
   "execution_count": 23,
   "metadata": {},
   "outputs": [
    {
     "data": {
      "text/plain": [
       "array([[277],\n",
       "       [427],\n",
       "       [358],\n",
       "       ...,\n",
       "       [  1],\n",
       "       [194],\n",
       "       [124]])"
      ]
     },
     "execution_count": 23,
     "metadata": {},
     "output_type": "execute_result"
    }
   ],
   "source": [
    "X = X.reshape(-1,1)\n",
    "X"
   ]
  },
  {
   "cell_type": "markdown",
   "metadata": {},
   "source": [
    "# Split data into train and test"
   ]
  },
  {
   "cell_type": "code",
   "execution_count": 24,
   "metadata": {},
   "outputs": [],
   "source": [
    "x_train, x_test, y_train, y_test = train_test_split(X, Y, train_size=0.8, test_size=0.2, random_state=100)\n",
    "# random_state will guarantee the same split result if you pass the same number next time you call it"
   ]
  },
  {
   "cell_type": "markdown",
   "metadata": {},
   "source": [
    "\n",
    "# plot the training data - Visualization purposes"
   ]
  },
  {
   "cell_type": "code",
   "execution_count": 7,
   "metadata": {},
   "outputs": [
    {
     "data": {
      "image/png": "[encoded data removed]",
      "text/plain": [
       "<Figure size 432x288 with 1 Axes>"
      ]
     },
     "metadata": {
      "needs_background": "light"
     },
     "output_type": "display_data"
    }
   ],
   "source": [
    "\n",
    "%matplotlib inline\n",
    "plt.scatter(x_train, y_train, color='blue')\n",
    "plt.xlabel('Mileage')\n",
    "plt.ylabel('Price')\n",
    "plt.title('Training Data')\n",
    "plt.show()"
   ]
  },
  {
   "cell_type": "code",
   "execution_count": 8,
   "metadata": {},
   "outputs": [
    {
     "data": {
      "text/plain": [
       "array([[145],\n",
       "       [200],\n",
       "       [ 11],\n",
       "       ...,\n",
       "       [122],\n",
       "       [280],\n",
       "       [155]])"
      ]
     },
     "execution_count": 8,
     "metadata": {},
     "output_type": "execute_result"
    }
   ],
   "source": [
    "\n",
    "x_train"
   ]
  },
  {
   "cell_type": "code",
   "execution_count": 9,
   "metadata": {},
   "outputs": [
    {
     "data": {
      "text/plain": [
       "array([ 4999.,  7300., 29600., ...,  3350.,  4700., 11700.])"
      ]
     },
     "execution_count": 9,
     "metadata": {},
     "output_type": "execute_result"
    }
   ],
   "source": [
    "y_train"
   ]
  },
  {
   "cell_type": "markdown",
   "metadata": {},
   "source": [
    "# Linear Regression Model"
   ]
  },
  {
   "cell_type": "code",
   "execution_count": 10,
   "metadata": {},
   "outputs": [
    {
     "data": {
      "text/plain": [
       "LinearRegression()"
      ]
     },
     "execution_count": 10,
     "metadata": {},
     "output_type": "execute_result"
    }
   ],
   "source": [
    "model = LinearRegression()\n",
    "model.fit(x_train, y_train)"
   ]
  },
  {
   "cell_type": "code",
   "execution_count": 11,
   "metadata": {},
   "outputs": [
    {
     "data": {
      "text/plain": [
       "LinearRegression()"
      ]
     },
     "execution_count": 11,
     "metadata": {},
     "output_type": "execute_result"
    }
   ],
   "source": [
    "model"
   ]
  },
  {
   "cell_type": "code",
   "execution_count": 12,
   "metadata": {},
   "outputs": [],
   "source": [
    "y_predict = model.predict(x_test) # Trained my model"
   ]
  },
  {
   "cell_type": "code",
   "execution_count": 13,
   "metadata": {},
   "outputs": [
    {
     "data": {
      "text/plain": [
       "array([ 33109.30637569,  19606.58288718,   6450.08307786,   9335.28040446,\n",
       "         3564.88575125,  34032.56952021,  28723.80643925,  22607.18810685,\n",
       "          102.64895932,  31378.18797973,   8527.42515301,  29300.84590457,\n",
       "        25261.56964733,  17413.83291896,  11643.43826575,   9681.50408366,\n",
       "         9335.28040446,  23068.81967911,  24338.30650281,  23068.81967911,\n",
       "        28954.62222538,  16605.97766751,  14990.26716461,  15336.4908438 ,\n",
       "        38071.84577746,  30339.51694215,  24915.34596813,  38187.25367052,\n",
       "        33340.12216182,  19721.99078024,  26761.87225716,  18337.09606347,\n",
       "        28262.174867  ,  16259.75398832,   7027.12254318,  -4975.2983355 ,\n",
       "        26877.28015023,  21568.51706927,  20414.43813863,  30224.10904909,\n",
       "        -3359.5878326 ,  28031.35908087,  -7975.90355517,  25261.56964733,\n",
       "        24799.93807507,   5642.22782641,  22030.14864153,  32186.04323118,\n",
       "        27338.91172248,  -5667.74569389,  26877.28015023,    679.68842465,\n",
       "        24222.89860975,  19260.35920799,  23992.08282362,   2757.0304998 ,\n",
       "        23992.08282362,  17067.60923977,   3564.88575125,  32301.45112424,\n",
       "        13374.55666171,  20876.06971089,   5296.00414721,  35994.5037023 ,\n",
       "        16259.75398832,  18683.31974267,  25723.20121958,   3564.88575125,\n",
       "        18798.72763573,  17413.83291896,  22030.14864153,  38187.25367052,\n",
       "         9335.28040446,  21568.51706927,  22953.41178604, -11438.1403471 ,\n",
       "        18567.9118496 ,  15105.67505767,  23761.26703749,  27454.31961555,\n",
       "         7719.56990156,  25838.60911265,  22607.18810685,  27800.54329474,\n",
       "        20645.25392476,   7950.38568769,   3218.66207206,  25261.56964733,\n",
       "        23415.0433583 ,  22030.14864153,  11066.39880043, -11784.36402629,\n",
       "        -2205.50890196,  15913.53030912,  15798.12241606,  25492.38543345,\n",
       "        32993.89848263,   7027.12254318,   3564.88575125,  38071.84577746,\n",
       "        32416.85901731,  28954.62222538,  26877.28015023,   3564.88575125,\n",
       "        11066.39880043,  16721.38556057,  30224.10904909,  30224.10904909,\n",
       "        29647.06958377,  17529.24081202,  16952.2013467 ,  22030.14864153,\n",
       "        25492.38543345,  36571.54316762,  18798.72763573,  34378.7931994 ,\n",
       "        27108.09593635,  37494.80631213,  13374.55666171,  38187.25367052,\n",
       "        -2205.50890196,  25838.60911265,   3564.88575125,  22376.37232072,\n",
       "         8758.24093914,  20299.03024556,  15682.714523  ,  32070.63533812,\n",
       "        28262.174867  ,  38187.25367052,   5873.04361254,   5873.04361254,\n",
       "        18452.50395654,  29070.03011845,  12105.069838  ,   7027.12254318,\n",
       "        20299.03024556,   8873.64883221,  23184.22757217,  20876.06971089,\n",
       "         9681.50408366,  19721.99078024,  29993.29326296,  13836.18823397,\n",
       "        27223.50382942,  18914.13552879,  17990.87238428,  38187.25367052,\n",
       "        30570.33272828,  27800.54329474,  10143.13565591,  34840.42477166,\n",
       "        19144.95131492,  17760.05659815,   3564.88575125,  10489.3593351 ,\n",
       "         4372.7410027 ,  -6821.82462453,  25954.01700571,  11643.43826575,\n",
       "        35302.05634391,  26300.2406849 ,  22260.96442766,  19606.58288718,\n",
       "        25030.7538612 ,  24569.12228894,  13374.55666171,   3564.88575125,\n",
       "        15105.67505767,  38187.25367052,  22145.55653459,  15567.30662993,\n",
       "        25492.38543345,  24338.30650281,  33570.93794795,  -7975.90355517,\n",
       "        14182.41191316,  21222.29339008,  15105.67505767,  38071.84577746,\n",
       "        17183.01713283,  38071.84577746,  21683.92496234,  27569.72750861,\n",
       "        28954.62222538,  23184.22757217,   5411.41204028,  14644.04348542,\n",
       "        18683.31974267,  38187.25367052,  31378.18797973,  15105.67505767,\n",
       "        11181.80669349,  20068.21445944,  12682.10930333,   3564.88575125,\n",
       "         5873.04361254,   9335.28040446,  14297.81980622,  19144.95131492,\n",
       "        11066.39880043,   9912.31986978,  19721.99078024,  15105.67505767,\n",
       "        16605.97766751,  17990.87238428,   5411.41204028,  22953.41178604,\n",
       "        20876.06971089,  32993.89848263,  22030.14864153,  22030.14864153,\n",
       "        11989.66194494,  26646.4643641 ,  38187.25367052,  37379.39841907,\n",
       "         9335.28040446, -19516.69286159,  15336.4908438 ,  32763.0826965 ,\n",
       "        14759.45137848,  11066.39880043,  -4513.66676324,   8181.20147382,\n",
       "        20414.43813863,   9912.31986978,  21222.29339008,  27800.54329474,\n",
       "          102.64895932,  20876.06971089,   2641.62260674,  15221.08295074,\n",
       "        30916.55640747,  20299.03024556,  19606.58288718,   1487.5436761 ,\n",
       "        19260.35920799,  38187.25367052,  21568.51706927,  18567.9118496 ,\n",
       "       -13515.48242225,  18914.13552879,  22145.55653459,  24915.34596813,\n",
       "        23068.81967911,  38187.25367052,  30801.14851441,  33340.12216182,\n",
       "        20876.06971089,  36225.31948843,  22607.18810685,  17413.83291896,\n",
       "        11643.43826575,  28723.80643925,  -1051.42997132,  -2205.50890196,\n",
       "        24107.49071668,   1256.72788997,   6565.49097092,  28377.58276006,\n",
       "        11643.43826575,  10143.13565591,  27223.50382942,  23992.08282362,\n",
       "         2641.62260674,  25261.56964733,   9335.28040446,  18452.50395654,\n",
       "        15105.67505767,   9335.28040446,  19606.58288718,  16836.79345364,\n",
       "       -16285.2718558 ,  10489.3593351 ,  17875.46449122,  38187.25367052,\n",
       "        19144.95131492,  12797.51719639,  27223.50382942,   5642.22782641,\n",
       "        26877.28015023,  37841.02999133,  10835.5830143 ,  20299.03024556,\n",
       "        17413.83291896,   4718.96468189,  12105.069838  ,  10027.72776285,\n",
       "        24684.530182  ,  19260.35920799,  16259.75398832,  11643.43826575,\n",
       "        31609.00376586,  38187.25367052,  38187.25367052,  17760.05659815,\n",
       "        22376.37232072, -10168.65352339,   2987.84628593,  18914.13552879,\n",
       "        27915.9511878 ,  34494.20109246,  38187.25367052,  26069.42489878,\n",
       "        29300.84590457,   3564.88575125,  24222.89860975,  25838.60911265,\n",
       "        16836.79345364,  21222.29339008,  26761.87225716,  27223.50382942,\n",
       "         3564.88575125,  31378.18797973,  18914.13552879,  15336.4908438 ,\n",
       "        13374.55666171,   6450.08307786,   8296.60936688,  16259.75398832,\n",
       "        35417.46423698,  11181.80669349,  25607.79332652,  38071.84577746,\n",
       "         -358.98261293,  27800.54329474,  18567.9118496 ,   3564.88575125,\n",
       "        11643.43826575,  38187.25367052,  22722.59599991,  38071.84577746,\n",
       "        20876.06971089,  20068.21445944,  31493.59587279,  24453.71439588,\n",
       "         3564.88575125,  26300.2406849 ,  22030.14864153,  17875.46449122,\n",
       "        32532.26691037,  38071.84577746,  -9129.98248581,  37610.2142052 ,\n",
       "        36802.35895375,  22607.18810685,  -5667.74569389,  31262.78008667,\n",
       "        21453.10917621,  38187.25367052,  38071.84577746,  29762.47747683,\n",
       "        19375.76710105,  22260.96442766,  16375.16188138,  20645.25392476,\n",
       "         9681.50408366,   4026.51732351,   9335.28040446,  26646.4643641 ,\n",
       "        19837.39867331,  30224.10904909,  24799.93807507,   5065.18836109,\n",
       "        25954.01700571,  -7975.90355517,   4718.96468189,  19721.99078024,\n",
       "        31147.3721936 ,  37033.17473988,  29993.29326296,  22030.14864153,\n",
       "        15336.4908438 ,   9566.09619059,   7027.12254318,   4718.96468189,\n",
       "        13143.74087558,  15105.67505767,  -5667.74569389,  29877.8853699 ,\n",
       "        22607.18810685,   6565.49097092,  15567.30662993,   8181.20147382,\n",
       "        19952.80656637,  11297.21458655,  37725.62209826,  15913.53030912,\n",
       "        28262.174867  ,  35994.5037023 ,    448.87263852,  -2205.50890196,\n",
       "         1833.76735529,  28146.76697393,   9335.28040446,  23645.85914443,\n",
       "        20876.06971089,  19606.58288718,  22953.41178604,  21453.10917621,\n",
       "        16144.34609525,  38071.84577746,   7834.97779463,  28377.58276006,\n",
       "        15105.67505767,   1256.72788997,   3564.88575125,   4718.96468189,\n",
       "         7027.12254318,  19721.99078024,  32993.89848263,  23184.22757217,\n",
       "        20645.25392476,  15105.67505767,  38071.84577746,  16259.75398832,\n",
       "        21799.3328554 ,  20876.06971089,  25146.16175426,  17413.83291896,\n",
       "        13720.7803409 ,  24338.30650281,   8873.64883221,  37956.43788439,\n",
       "        33224.71426876,  13143.74087558,  17413.83291896,  22260.96442766,\n",
       "        11643.43826575,   7488.75411544,  29647.06958377,  24915.34596813,\n",
       "        24338.30650281,  21222.29339008,  19144.95131492,  28954.62222538,\n",
       "        30685.74062134,  20183.6223525 , -16054.45606967,   9335.28040446,\n",
       "         7027.12254318,  -7975.90355517,  27569.72750861,  29070.03011845,\n",
       "        31955.22744505,  12220.47773107,  25492.38543345,  22260.96442766,\n",
       "        32416.85901731,  17760.05659815,  30224.10904909,  15221.08295074,\n",
       "        22607.18810685,  22953.41178604,  15105.67505767,   9104.46461833,\n",
       "        23530.45125136,  -2205.50890196,   9912.31986978,  13836.18823397,\n",
       "        33570.93794795,   5526.81993334,  -4513.66676324,   9335.28040446,\n",
       "        11066.39880043,  26069.42489878,  38187.25367052,  25838.60911265,\n",
       "        37956.43788439,  38071.84577746, -12015.17981242,  20876.06971089,\n",
       "        24915.34596813,  33224.71426876,  12566.70141026,  23299.63546523,\n",
       "        -4052.03519099,  20876.06971089,  -5667.74569389,  29070.03011845,\n",
       "        37033.17473988,   8758.24093914,  27800.54329474,  15336.4908438 ,\n",
       "        33917.16162714,  12797.51719639,  24107.49071668,  38187.25367052,\n",
       "         8181.20147382,  38187.25367052,  -3705.81151179,   5296.00414721,\n",
       "         6334.67518479,  18567.9118496 ,  18567.9118496 ,  13951.59612703,\n",
       "        38187.25367052,  26069.42489878,  11528.03037268,  16375.16188138,\n",
       "         4141.92521657,  37610.2142052 ,  22607.18810685,   8181.20147382,\n",
       "        26646.4643641 ,  21106.88549701,  11643.43826575,  20876.06971089,\n",
       "        22722.59599991,  22607.18810685,  23992.08282362,   9104.46461833,\n",
       "        24915.34596813,  20068.21445944,    102.64895932,  14182.41191316,\n",
       "        -2205.50890196,  25492.38543345,  27800.54329474,  19721.99078024,\n",
       "        36340.72738149,  23184.22757217,   6911.71465011,   8527.42515301,\n",
       "        15105.67505767,  23415.0433583 ,  26069.42489878,  30685.74062134,\n",
       "        19260.35920799,  27915.9511878 ,  27223.50382942,   9335.28040446,\n",
       "        26646.4643641 ,  24107.49071668,  38187.25367052,  11643.43826575,\n",
       "        19952.80656637,  37725.62209826,  32993.89848263,  38187.25367052,\n",
       "        29647.06958377,  16375.16188138,  -2205.50890196,   6450.08307786,\n",
       "        30570.33272828, -55293.1397115 ,  -2205.50890196,  13259.14876865,\n",
       "        13374.55666171,  11528.03037268,  30339.51694215,  27223.50382942,\n",
       "        17760.05659815,   8181.20147382,  10489.3593351 ,   6680.89886399,\n",
       "        19952.80656637,   5873.04361254,  21106.88549701,  20068.21445944,\n",
       "         9566.09619059,  15682.714523  ,  12912.92508945,  37956.43788439,\n",
       "        38187.25367052,  26069.42489878,  28262.174867  ,  20876.06971089,\n",
       "        18798.72763573,  32763.0826965 ,  23415.0433583 ,  15105.67505767,\n",
       "        15105.67505767,  18567.9118496 ,  23992.08282362,  20760.66181782,\n",
       "        16952.2013467 ,  19491.17499411,  22491.78021378,  35648.28002311,\n",
       "        24799.93807507,  37610.2142052 ,   7027.12254318,  32993.89848263,\n",
       "        18337.09606347,  13489.96455477,  19721.99078024,  21683.92496234,\n",
       "        37610.2142052 ,  17413.83291896,   3564.88575125,  25492.38543345,\n",
       "        32416.85901731,  18221.68817041,  23184.22757217,  27223.50382942,\n",
       "        38187.25367052,   2410.80682061,  16144.34609525,  38071.84577746,\n",
       "        12566.70141026,  24338.30650281,  33224.71426876,   7142.53043624,\n",
       "        25492.38543345,  18798.72763573,  25954.01700571,  28031.35908087,\n",
       "        15105.67505767,  23530.45125136,   3680.29364432,  38187.25367052,\n",
       "        23299.63546523,  35186.64845085,  33570.93794795,  24915.34596813,\n",
       "         5642.22782641,  12220.47773107,  29647.06958377,  38071.84577746,\n",
       "        21337.70128314,  15105.67505767,  26646.4643641 ,  16259.75398832,\n",
       "        17990.87238428,  29531.6616907 ,   9335.28040446,  22030.14864153,\n",
       "        17760.05659815,  31839.81955199,  38071.84577746,   1256.72788997,\n",
       "        -7975.90355517,   -474.390506  ,  37033.17473988,   7027.12254318,\n",
       "        25492.38543345,  17413.83291896,   3564.88575125,  21568.51706927,\n",
       "        38071.84577746,  11643.43826575,  23184.22757217,  31262.78008667,\n",
       "        20645.25392476,  20876.06971089,  19260.35920799,  16836.79345364,\n",
       "         1256.72788997,  15913.53030912,   3564.88575125, -23555.96911884,\n",
       "        19606.58288718,  29762.47747683,  11181.80669349,  -2205.50890196,\n",
       "        19606.58288718,  20414.43813863,  26992.68804329,  38071.84577746,\n",
       "        38071.84577746,  20068.21445944,  26531.05647103,  27915.9511878 ,\n",
       "        15567.30662993,  34725.01687859,  37379.39841907,  14528.63559235,\n",
       "        32416.85901731,  25954.01700571,  17760.05659815,  29762.47747683,\n",
       "        22607.18810685,  14528.63559235,  33917.16162714,  28608.39854619,\n",
       "        11528.03037268,  26300.2406849 ,  14528.63559235,  19721.99078024,\n",
       "        38187.25367052,  38071.84577746,  18106.28027734,   5873.04361254,\n",
       "        33570.93794795,  33801.75373408,  12220.47773107,  27800.54329474,\n",
       "        38187.25367052,  17644.64870509,  28146.76697393,  17183.01713283,\n",
       "        31262.78008667,  23876.67493056,  38187.25367052,  38187.25367052,\n",
       "        23184.22757217,  22260.96442766,   8758.24093914,  15105.67505767,\n",
       "         8873.64883221,  33917.16162714,   3564.88575125,  23645.85914443,\n",
       "          102.64895932,  28492.99065312,   7027.12254318,  -7975.90355517,\n",
       "          102.64895932,  17760.05659815,  38187.25367052,  17413.83291896,\n",
       "        37725.62209826,  32763.0826965 ,   3564.88575125,  -1628.46943664,\n",
       "         4718.96468189,  31839.81955199,  10489.3593351 ,  20991.47760395,\n",
       "        27685.13540167,  38071.84577746,  23184.22757217,  38187.25367052,\n",
       "        28954.62222538,  24569.12228894,  31609.00376586,  36109.91159536,\n",
       "        14067.0040201 ,  20645.25392476,  -4167.44308405,  11643.43826575,\n",
       "        20991.47760395,  26069.42489878,  25723.20121958,  26184.83279184,\n",
       "        17644.64870509,  28146.76697393,  20876.06971089,  18914.13552879,\n",
       "        17990.87238428,  15336.4908438 ,  26646.4643641 ,  25492.38543345,\n",
       "        26415.64857797,  26877.28015023,  38187.25367052,  22145.55653459,\n",
       "        38071.84577746,  21106.88549701,  19721.99078024,  38071.84577746,\n",
       "        23068.81967911,  15105.67505767,  27800.54329474,   5873.04361254,\n",
       "        27338.91172248,  36917.76684681,   3564.88575125,   6796.30675705,\n",
       "        17644.64870509,  38187.25367052,  14067.0040201 ,   5873.04361254,\n",
       "        13028.33298252,  -2205.50890196,   2410.80682061,  17644.64870509,\n",
       "        16836.79345364, -36827.87682123,  12797.51719639,  22953.41178604,\n",
       "        22030.14864153,  17298.42502589,   7027.12254318,  38187.25367052,\n",
       "        19144.95131492,  18798.72763573,  15221.08295074,   9335.28040446,\n",
       "         4718.96468189,  13605.37244784,   7373.34622237,  32993.89848263,\n",
       "        27915.9511878 ,  20529.84603169,  23530.45125136,  23645.85914443,\n",
       "        19721.99078024,  27800.54329474,  28146.76697393,  24569.12228894,\n",
       "        23068.81967911, -14554.15345983,   5065.18836109,   1602.95156916,\n",
       "        21337.70128314,   7719.56990156,  17990.87238428,  15913.53030912,\n",
       "         9335.28040446,  21453.10917621,  22607.18810685,  26877.28015023,\n",
       "        17529.24081202])"
      ]
     },
     "execution_count": 13,
     "metadata": {},
     "output_type": "execute_result"
    }
   ],
   "source": [
    "y_predict"
   ]
  },
  {
   "cell_type": "code",
   "execution_count": 14,
   "metadata": {},
   "outputs": [
    {
     "data": {
      "text/plain": [
       "array([ 56000.  ,  22800.  ,   5700.  ,   3300.  ,   2700.  ,  55500.  ,\n",
       "         8200.  ,   9000.  ,   3300.  ,  43500.  ,   2900.  ,  20999.  ,\n",
       "        19500.  ,  15900.  ,   7000.  ,   8500.  ,  10500.  ,  22900.  ,\n",
       "        11000.  ,  13500.  ,   9999.  ,  22600.  ,   3399.  ,   4350.  ,\n",
       "         4500.  ,  11900.  ,  23000.  ,  71138.  ,  41500.  ,  18000.  ,\n",
       "         7000.  ,   9200.  ,  25999.  ,   7000.  ,   9300.  ,   3600.  ,\n",
       "        10000.  ,  29900.  ,   8900.  ,  23400.  ,   2150.  , 140000.  ,\n",
       "         5000.  ,  23400.  ,  15300.  ,   5800.  ,   6900.  ,  32000.  ,\n",
       "         1950.  ,   2350.  ,  17700.  ,   6800.  ,   7300.  ,   3100.  ,\n",
       "         7900.  ,   4299.  ,  22000.  ,  21900.  ,   1950.  ,  11500.  ,\n",
       "        10300.  ,   8420.  ,   5400.  ,  85900.  ,  13600.  ,   8900.  ,\n",
       "         5999.  ,   6700.  ,   7900.  ,   9000.  ,  25500.  ,  29040.  ,\n",
       "         5400.  ,   7950.  ,  13300.  ,   3300.  ,   7000.  ,   8500.  ,\n",
       "        17500.  ,  10500.  ,   9800.  ,  28500.  ,   7100.  ,  28500.  ,\n",
       "        19999.  ,   4900.  ,   3500.  ,   8100.  ,  58500.  ,   8950.  ,\n",
       "        35500.  ,   2900.  ,   4900.  ,  10799.  ,   4000.  ,  14900.  ,\n",
       "        47500.  ,   2100.  ,  12250.  ,  74999.  ,  32400.  ,  58500.  ,\n",
       "         9800.  ,   4299.  ,   6300.  ,  12000.  ,  20200.  ,  20900.  ,\n",
       "        56800.  ,   9000.  ,   6600.  ,  38500.  ,  15700.  ,  75500.  ,\n",
       "        17500.  , 219900.  ,  32000.  , 250000.  ,   3850.  ,  25000.  ,\n",
       "         7000.  ,   9600.  ,   5000.  ,  10200.  ,  32000.  ,   6700.  ,\n",
       "         8400.  ,  22000.  ,  31000.  ,  28500.  ,   1800.  ,   3950.  ,\n",
       "        14900.  ,   8200.  ,   7600.  ,  11700.  ,   6750.  ,   2750.  ,\n",
       "         9750.  ,  33200.  ,   7700.  ,  15900.  ,  29900.  ,   2350.  ,\n",
       "        41900.  ,   7950.  ,   8300.  , 124999.  ,  10000.  ,  65000.  ,\n",
       "        10500.  , 295000.  ,  10500.  ,  12900.  ,   6900.  ,   8700.  ,\n",
       "        10399.  ,   3100.  ,   3200.  ,   8300.  , 116500.  ,  18200.  ,\n",
       "        12100.  ,   9999.  ,   9600.  ,  10600.  ,   4200.  ,   5999.  ,\n",
       "        18100.  ,  72000.  ,  14800.  ,   9800.  ,  10300.  ,  55000.  ,\n",
       "        12900.  ,   5500.  ,   7100.  ,   5300.  ,   5000.  ,   9658.94,\n",
       "        13200.  ,  67500.  ,   5800.  ,  34000.  ,  28700.  ,  12000.  ,\n",
       "         6000.  ,  10600.  ,  11600.  ,  12114.35,  42000.  ,   8500.  ,\n",
       "         8900.  ,  17000.  ,   6200.  ,   4500.  ,   7600.  ,   1850.  ,\n",
       "         4500.  ,  10800.  ,  10300.  ,   7300.  ,  13800.  ,   2299.  ,\n",
       "         9400.  ,   9000.  ,   8800.  ,  15200.  ,   6000.  ,  30950.  ,\n",
       "        13300.  ,   8300.  ,  19999.  ,   8999.  , 164500.  ,  52000.  ,\n",
       "         5500.  ,   8500.  ,  11200.  ,  16800.  ,   2990.  ,  13000.  ,\n",
       "         7000.  ,  11300.  ,  16800.  ,   8500.  ,  35000.  ,  18800.  ,\n",
       "         6500.  ,  34999.  ,   4400.  ,   8200.  ,  10888.  ,   7550.  ,\n",
       "        11500.  ,   3000.  ,   8200.  ,  63000.  ,  17500.  ,   6500.  ,\n",
       "         7200.  ,   8900.  ,  29000.  ,   9200.  ,  10000.  ,  40800.  ,\n",
       "        58000.  ,  22100.  ,   9300.  , 125000.  ,  14200.  ,   6200.  ,\n",
       "        12500.  ,  48900.  ,   7650.  ,   2250.  ,  16500.  ,  18000.  ,\n",
       "         3550.  ,  34999.  ,  12000.  ,   2900.  ,  18999.  ,  15800.  ,\n",
       "        17200.  ,  19900.  ,   8999.  ,  14500.  ,   2300.  ,  13500.  ,\n",
       "        18900.  ,   6800.  ,   4900.  ,   8900.  ,  14200.  ,  13300.95,\n",
       "        11600.  ,   9300.  ,  28000.  ,   6399.  ,  15850.  ,  86000.  ,\n",
       "         3200.  ,  20500.  ,  16300.  ,   7400.  ,   7000.  ,   5300.  ,\n",
       "        38700.  ,  12750.  ,   6500.  ,  20900.  ,  22500.  ,  38365.  ,\n",
       "        15820.35,  11950.  ,  15000.  ,   6000.  ,   6100.  ,  12500.  ,\n",
       "         9500.  ,  31700.  ,  47500.  ,  23400.  ,  36800.  ,  11900.  ,\n",
       "        16900.  ,  21900.  ,   7500.  ,   8400.  ,  10200.  ,  15000.  ,\n",
       "         9900.  ,  48000.  ,  12350.  ,   9000.  ,   3550.  ,   2100.  ,\n",
       "         7750.  ,  21300.  ,  13850.  ,  15300.  ,  32800.  ,  39500.  ,\n",
       "         3500.  ,  11700.  ,  10500.  ,   8000.  ,  12500.  ,  34899.14,\n",
       "        38500.  ,  27565.2 ,  16500.  ,   8500.  ,  25800.  ,  11100.  ,\n",
       "         2900.  ,   8910.53,   4999.  ,  12500.  ,  20800.  ,  11818.95,\n",
       "         4100.  ,  47000.  ,  39900.  ,   5950.  ,   4000.  ,  48900.  ,\n",
       "        17499.  , 199999.  ,   6500.  ,  22000.  ,  11500.  ,  10900.  ,\n",
       "        10900.  ,  15400.  ,   9700.  ,   2800.  ,  10600.  ,  44800.  ,\n",
       "        12350.  ,  15000.  ,  13499.  ,  12200.  ,  18800.  ,  15000.  ,\n",
       "         7700.  ,  28500.  ,  57000.  ,  47300.  ,  34500.  ,   2800.  ,\n",
       "        13999.  ,   5000.  ,   3000.  ,   8700.  ,   6950.  ,   9900.  ,\n",
       "         5300.  ,  21500.  ,  17300.  ,   6650.  ,   8700.  ,   5200.  ,\n",
       "        17000.  ,  13500.  ,   6800.  ,  15200.  ,  28500.  ,   8299.  ,\n",
       "         6900.  ,   3799.  ,   4000.  ,   8500.  ,   3000.  ,   7000.  ,\n",
       "        13200.  ,  23500.  ,   8650.  ,  17900.  ,  11500.  ,  24193.65,\n",
       "        19000.  ,  24990.  ,   4300.  ,   6500.  ,   5400.  ,   2200.  ,\n",
       "         6300.  ,  28700.  ,  47500.  ,   9000.  ,  40000.  ,   6200.  ,\n",
       "         4600.  ,  10100.  ,  12900.  ,  62000.  ,   4800.  ,   5700.  ,\n",
       "         5300.  ,   7800.  ,   2499.  , 137000.  ,  13500.  ,   5800.  ,\n",
       "         8900.  ,  13500.  ,   8500.  ,  10500.  ,  23500.  ,   8000.  ,\n",
       "        18300.  ,  13600.  ,   9999.  ,  49700.  ,  21999.  ,  12700.  ,\n",
       "         3600.  ,   4900.  ,   3700.  ,   4700.  ,   9200.  ,  49900.  ,\n",
       "        32300.  ,   9999.  ,  13300.  ,  12500.  ,  32950.  ,  11500.  ,\n",
       "        17900.  ,   2150.  ,   7500.  ,  11900.  ,  22500.  ,  19800.  ,\n",
       "        28000.  ,   6000.  ,   1550.  ,  14900.  ,  85555.  ,  10000.  ,\n",
       "         6700.  ,   6800.  ,   6800.  ,  10200.  ,  62999.  ,  20800.  ,\n",
       "       104999.  ,   3500.  ,   6500.  ,  26900.  ,   8900.  ,  68500.  ,\n",
       "        20500.  ,  11900.  ,   6000.  ,  12900.  ,   7400.  ,  21000.  ,\n",
       "         2600.  ,   3250.  ,   8100.  ,   8899.  ,  34400.  ,   8000.  ,\n",
       "        13900.  ,  13300.95,   1500.  ,  65099.  ,  11300.  ,   5500.  ,\n",
       "         3600.  ,  11500.  ,  26900.  ,   4200.  ,  16999.  ,  23600.  ,\n",
       "         3700.  ,   9700.  ,   3200.  ,  47000.  ,  35000.  ,   8400.  ,\n",
       "        10800.  ,   6450.  ,   7700.  ,  13200.  ,  18777.  ,  29500.  ,\n",
       "        16500.  ,   5700.  ,  25000.  ,  27800.  ,   3750.  ,  12500.  ,\n",
       "         3990.  ,  11500.  ,  16000.  ,   8200.  ,  72900.  ,  10650.  ,\n",
       "         6000.  ,   9800.  ,   8750.  ,  22700.  ,  13400.  ,   9800.  ,\n",
       "        13600.  ,  21500.  ,  18990.  ,  20000.  ,   8400.  ,  22800.  ,\n",
       "       222000.  ,  15000.  ,  13500.  , 115800.  ,  22900.  ,  81999.  ,\n",
       "        27500.  ,   6300.  ,   2100.  ,   3100.  ,  36000.  ,  47700.  ,\n",
       "         9800.  ,   6700.  ,   4100.  ,   5800.  ,  45200.  ,  12179.  ,\n",
       "        11850.  ,   2899.  ,   2411.  ,  11900.  ,  26900.  ,  10200.  ,\n",
       "        21500.  ,  11200.  ,   4900.  ,  18100.  ,  15900.  ,  42900.  ,\n",
       "        65000.  ,  16999.  ,   8800.  ,  24300.  ,   8300.  , 115000.  ,\n",
       "         8900.  ,  12000.  ,  21999.  ,   8899.  ,   7200.  ,  18400.  ,\n",
       "         8500.  ,   8150.  ,  12700.  ,  32000.  ,  16800.  ,  38888.  ,\n",
       "        10500.  ,  39999.  ,  21800.  ,   6750.  ,   8900.  ,  35900.  ,\n",
       "        42000.  ,  17300.  ,   3500.  ,   9850.  ,  55555.  ,  15200.  ,\n",
       "        25500.  ,  10500.  ,  66346.  ,   9999.  ,  13000.  ,  64500.  ,\n",
       "        20500.  ,  12500.  ,  22800.  ,   5500.  ,  12700.  ,  15300.  ,\n",
       "        20500.  ,   4100.  ,   2600.  ,  12900.  ,   6699.  ,  15672.15,\n",
       "        12900.  ,  22000.  ,  72000.  ,  36500.  ,   3700.  ,   9000.  ,\n",
       "         7500.  ,   1296.75,  15500.  ,  33000.  ,  22500.  ,  20400.  ,\n",
       "         8100.  ,  23500.  ,   3050.  ,   4500.  ,  15499.  ,  52300.  ,\n",
       "         2900.  ,   9900.  ,   9500.  ,   4000.  ,  13500.  ,   1500.  ,\n",
       "         8500.  ,  39000.  ,  12600.  ,  17500.  ,  77500.  ,   7777.  ,\n",
       "        12750.  ,   8400.  ,   9700.  ,  30500.  ,  16800.  ,  10500.  ,\n",
       "         3600.  ,  11500.  ,   2990.  ,   2100.  ,   1550.  ,  12000.  ,\n",
       "        10000.  ,   2700.  ,  13000.  ,  16800.  ,  28500.  ,  43000.  ,\n",
       "         2400.  ,  12200.  ,  21700.  ,  16000.  ,   6200.  ,  75555.  ,\n",
       "       133000.  ,  14500.  ,  18900.  ,  18900.  ,  11700.  ,  26200.  ,\n",
       "        12400.  ,   8800.  , 300000.  ,  14200.  ,  15800.  ,  10850.  ,\n",
       "         6250.  ,  22000.  ,  11403.99,  44000.  ,  17600.  ,  18000.  ,\n",
       "         8000.  ,  17999.  ,   6990.  ,  14500.  , 107999.  ,   9000.  ,\n",
       "        17950.  ,   5300.  ,  25000.  ,  22500.  ,  47600.  ,  50250.  ,\n",
       "         1550.  ,  15900.  ,  12900.  ,   1750.  ,  32500.  , 129999.  ,\n",
       "         7900.  ,   9850.  ,   6300.  ,  69500.  ,   9400.  ,   2700.  ,\n",
       "         3200.  ,  12399.  ,  66666.  ,  10800.  ,  46500.  ,  18800.  ,\n",
       "         5700.  ,   3300.  ,   2200.  ,   9900.  ,   7600.  ,  15999.  ,\n",
       "        47777.  ,  22711.65,   9700.  , 105999.  ,  36400.  ,   9999.  ,\n",
       "        10700.  ,  39000.  ,   6400.  ,  22999.  ,   2550.  ,   4700.  ,\n",
       "         6300.  ,  21335.  ,  40500.  ,   7199.  ,  15500.  ,   9150.  ,\n",
       "        13999.  ,  15500.  ,  14300.  ,  20300.  ,  39999.  ,  60500.  ,\n",
       "         6700.  ,  11499.  , 109999.  ,  19000.  , 169000.  ,  28500.  ,\n",
       "         5200.  ,  18500.  ,  32500.  ,  10500.  ,   4900.  ,   1800.  ,\n",
       "         9350.  ,   4800.  ,   2650.  ,   3500.  ,   3200.  , 102999.  ,\n",
       "        14899.  ,   4300.  ,   4900.  ,   8500.  ,   2400.  ,   7200.  ,\n",
       "         9999.  ,   9500.  ,  14500.  ,   6300.  ,  10600.  ,   9000.  ,\n",
       "         1650.  , 199999.  ,   9500.  ,  14500.  ,   4500.  ,   5200.  ,\n",
       "         2800.  ,   5950.  ,   4300.  ,  39999.  ,  13900.  ,  10700.  ,\n",
       "        13900.  ,   6300.  ,  34500.  ,   8900.  ,  44999.  ,  12500.  ,\n",
       "        13300.  ,   8400.  ,   2800.  ,   7500.  ,  15800.  ,   8900.  ,\n",
       "         5650.  ,  20500.  ,   3300.  ,   4999.  ,  21000.  ,   9800.  ,\n",
       "        22500.  ])"
      ]
     },
     "execution_count": 14,
     "metadata": {},
     "output_type": "execute_result"
    }
   ],
   "source": [
    "\n",
    "y_test"
   ]
  },
  {
   "cell_type": "markdown",
   "metadata": {},
   "source": [
    "# Accuracy of the model"
   ]
  },
  {
   "cell_type": "code",
   "execution_count": 15,
   "metadata": {},
   "outputs": [
    {
     "name": "stdout",
     "output_type": "stream",
     "text": [
      "Testing Accuracy: 19.767970501476373%\n"
     ]
    }
   ],
   "source": [
    "print(f'Testing Accuracy: {model.score(x_test, y_test)*100}%')"
   ]
  },
  {
   "cell_type": "code",
   "execution_count": 16,
   "metadata": {},
   "outputs": [
    {
     "name": "stdout",
     "output_type": "stream",
     "text": [
      "Training Accuracy: 23.348944641281754%\n"
     ]
    }
   ],
   "source": [
    "\n",
    "print(f'Training Accuracy: {model.score(x_train, y_train)*100}%')"
   ]
  },
  {
   "cell_type": "code",
   "execution_count": 17,
   "metadata": {},
   "outputs": [
    {
     "data": {
      "image/png": "[encoded data removed]",
      "text/plain": [
       "<Figure size 432x288 with 1 Axes>"
      ]
     },
     "metadata": {
      "needs_background": "light"
     },
     "output_type": "display_data"
    }
   ],
   "source": [
    "%matplotlib inline\n",
    "plt.scatter(x_train, y_train, color='blue')\n",
    "plt.scatter(x_test, y_test, color='y')\n",
    "plt.plot(x_test, y_predict, color='red')\n",
    "plt.xlabel('Mileage')\n",
    "plt.ylabel('Price')\n",
    "plt.title('Training Data')\n",
    "plt.show()"
   ]
  },
  {
   "cell_type": "markdown",
   "metadata": {},
   "source": [
    "- the more mileage , the less price it will become\n",
    "- Test accuracy is about 19 % while train accuracy is about 23 %"
   ]
  },
  {
   "cell_type": "code",
   "execution_count": null,
   "metadata": {},
   "outputs": [],
   "source": []
  },
  {
   "cell_type": "markdown",
   "metadata": {},
   "source": [
    "# conclusion 2"
   ]
  },
  {
   "cell_type": "code",
   "execution_count": 26,
   "metadata": {},
   "outputs": [
    {
     "data": {
      "text/plain": [
       "array([1991, 1999, 2003, ..., 1999, 1985, 2013])"
      ]
     },
     "execution_count": 26,
     "metadata": {},
     "output_type": "execute_result"
    }
   ],
   "source": [
    "\n",
    "X = cars['Year'].values\n",
    "X"
   ]
  },
  {
   "cell_type": "code",
   "execution_count": 39,
   "metadata": {},
   "outputs": [
    {
     "data": {
      "text/plain": [
       "array([ 4200.,  7900., 13300., ...,  6500.,  8000., 13500.])"
      ]
     },
     "execution_count": 39,
     "metadata": {},
     "output_type": "execute_result"
    }
   ],
   "source": [
    "Y = cars['Price'].values\n",
    "Y"
   ]
  },
  {
   "cell_type": "code",
   "execution_count": 45,
   "metadata": {},
   "outputs": [
    {
     "data": {
      "text/plain": [
       "array([[1991],\n",
       "       [1999],\n",
       "       [2003],\n",
       "       ...,\n",
       "       [1999],\n",
       "       [1985],\n",
       "       [2013]])"
      ]
     },
     "execution_count": 45,
     "metadata": {},
     "output_type": "execute_result"
    }
   ],
   "source": [
    "\n",
    "X = X.reshape(-1,1)\n",
    "X"
   ]
  },
  {
   "cell_type": "code",
   "execution_count": 46,
   "metadata": {},
   "outputs": [],
   "source": [
    "x_train, x_test, y_train, y_test = train_test_split(X, Y, train_size=0.8, test_size=0.2, random_state=100)"
   ]
  },
  {
   "cell_type": "code",
   "execution_count": 47,
   "metadata": {},
   "outputs": [
    {
     "data": {
      "image/png": "[encoded data removed]",
      "text/plain": [
       "<Figure size 432x288 with 1 Axes>"
      ]
     },
     "metadata": {
      "needs_background": "light"
     },
     "output_type": "display_data"
    }
   ],
   "source": [
    "%matplotlib inline\n",
    "plt.scatter(x_train, y_train, color='pink')\n",
    "plt.xlabel('Year')\n",
    "plt.ylabel('Price')\n",
    "plt.title('Training Data')\n",
    "plt.show()"
   ]
  },
  {
   "cell_type": "code",
   "execution_count": 48,
   "metadata": {},
   "outputs": [
    {
     "data": {
      "text/plain": [
       "array([[2000],\n",
       "       [2007],\n",
       "       [2016],\n",
       "       ...,\n",
       "       [1993],\n",
       "       [1993],\n",
       "       [2012]])"
      ]
     },
     "execution_count": 48,
     "metadata": {},
     "output_type": "execute_result"
    }
   ],
   "source": [
    "x_train"
   ]
  },
  {
   "cell_type": "code",
   "execution_count": 49,
   "metadata": {},
   "outputs": [
    {
     "data": {
      "text/plain": [
       "array([ 4999.,  7300., 29600., ...,  3350.,  4700., 11700.])"
      ]
     },
     "execution_count": 49,
     "metadata": {},
     "output_type": "execute_result"
    }
   ],
   "source": [
    "y_train"
   ]
  },
  {
   "cell_type": "code",
   "execution_count": 50,
   "metadata": {},
   "outputs": [
    {
     "data": {
      "text/plain": [
       "LinearRegression()"
      ]
     },
     "execution_count": 50,
     "metadata": {},
     "output_type": "execute_result"
    }
   ],
   "source": [
    "model = LinearRegression()\n",
    "model.fit(x_train, y_train)\n",
    "model"
   ]
  },
  {
   "cell_type": "code",
   "execution_count": 51,
   "metadata": {},
   "outputs": [
    {
     "data": {
      "text/plain": [
       "array([ 33327.16806884,  27789.7351401 ,  11177.43635388,  16714.86928262,\n",
       "         7485.81440139,  35172.97904508,  18560.68025887,  27789.7351401 ,\n",
       "       -14663.91731357,  27789.7351401 ,  13023.24733013,  29635.54611634,\n",
       "        22252.30221136,  22252.30221136,   7485.81440139,   9331.62537763,\n",
       "        27789.7351401 ,  22252.30221136,   7485.81440139,  18560.68025887,\n",
       "        11177.43635388,  22252.30221136,  -9126.48438483,  14869.05830637,\n",
       "        20406.49123511,  27789.7351401 ,  22252.30221136,  37018.79002133,\n",
       "        29635.54611634,  20406.49123511,  16714.86928262,   1948.38147265,\n",
       "        27789.7351401 ,   9331.62537763,   9331.62537763,   9331.62537763,\n",
       "        31481.35709259,  22252.30221136,  22252.30221136,  33327.16806884,\n",
       "         1948.38147265,  31481.35709259,   5640.00342514,  29635.54611634,\n",
       "        24098.1131876 ,   9331.62537763,  29635.54611634,  29635.54611634,\n",
       "       -25738.78317105,  13023.24733013,  27789.7351401 ,   9331.62537763,\n",
       "        22252.30221136,   5640.00342514,  22252.30221136,  -9126.48438483,\n",
       "        24098.1131876 ,  20406.49123511,   5640.00342514,  31481.35709259,\n",
       "        20406.49123511,  16714.86928262,  11177.43635388,  35172.97904508,\n",
       "        24098.1131876 ,  22252.30221136,  18560.68025887,   7485.81440139,\n",
       "        18560.68025887,  13023.24733013,  29635.54611634,  35172.97904508,\n",
       "        13023.24733013,  29635.54611634,  29635.54611634,  -9126.48438483,\n",
       "         9331.62537763,   5640.00342514,  18560.68025887,  27789.7351401 ,\n",
       "         9331.62537763,  27789.7351401 ,  31481.35709259,  20406.49123511,\n",
       "        29635.54611634,   3794.19244889,   7485.81440139,  20406.49123511,\n",
       "        31481.35709259,  29635.54611634,  25943.92416385,  -1743.24047985,\n",
       "         7485.81440139,  29635.54611634,   7485.81440139,  22252.30221136,\n",
       "        33327.16806884,  11177.43635388,  20406.49123511,  37018.79002133,\n",
       "        33327.16806884,  31481.35709259,  22252.30221136,  13023.24733013,\n",
       "         9331.62537763,  18560.68025887,  25943.92416385,  22252.30221136,\n",
       "        25943.92416385,  25943.92416385,  29635.54611634,  29635.54611634,\n",
       "        27789.7351401 ,  35172.97904508,  14869.05830637,  31481.35709259,\n",
       "        25943.92416385,  37018.79002133,  11177.43635388,  37018.79002133,\n",
       "        14869.05830637,  27789.7351401 ,  -3589.05145609,  22252.30221136,\n",
       "        22252.30221136,  20406.49123511,  14869.05830637,  20406.49123511,\n",
       "        33327.16806884,  37018.79002133,   1948.38147265,  -3589.05145609,\n",
       "        18560.68025887,  22252.30221136,  18560.68025887,  13023.24733013,\n",
       "        29635.54611634,   1948.38147265,  16714.86928262,  25943.92416385,\n",
       "        11177.43635388,  25943.92416385,  20406.49123511, -16509.72828982,\n",
       "        27789.7351401 ,   7485.81440139,   9331.62537763,  37018.79002133,\n",
       "        27789.7351401 ,  29635.54611634,  13023.24733013,  27789.7351401 ,\n",
       "        29635.54611634,  24098.1131876 ,   3794.19244889,   7485.81440139,\n",
       "        14869.05830637, -10972.29536108,   1948.38147265,  14869.05830637,\n",
       "        35172.97904508,  20406.49123511,  22252.30221136,  22252.30221136,\n",
       "         5640.00342514,  22252.30221136,  13023.24733013,   5640.00342514,\n",
       "        16714.86928262,  37018.79002133,  22252.30221136,  27789.7351401 ,\n",
       "        22252.30221136,  22252.30221136,  31481.35709259,    102.5704964 ,\n",
       "        22252.30221136,   9331.62537763,   3794.19244889,  37018.79002133,\n",
       "        27789.7351401 ,  37018.79002133,  20406.49123511,  29635.54611634,\n",
       "        29635.54611634,  20406.49123511,   9331.62537763,  22252.30221136,\n",
       "        31481.35709259,  37018.79002133,  24098.1131876 ,  13023.24733013,\n",
       "         5640.00342514,  25943.92416385,  14869.05830637,   7485.81440139,\n",
       "         9331.62537763,   5640.00342514,  13023.24733013,  20406.49123511,\n",
       "        20406.49123511,   3794.19244889,  18560.68025887,   5640.00342514,\n",
       "        22252.30221136,  18560.68025887,  14869.05830637,  24098.1131876 ,\n",
       "        14869.05830637,  31481.35709259,  20406.49123511,  11177.43635388,\n",
       "        18560.68025887,  24098.1131876 ,  35172.97904508,  35172.97904508,\n",
       "        13023.24733013,   7485.81440139,  14869.05830637,  31481.35709259,\n",
       "         9331.62537763,  16714.86928262,  -1743.24047985,  20406.49123511,\n",
       "        18560.68025887,  11177.43635388,   9331.62537763,  22252.30221136,\n",
       "         5640.00342514, -49734.32586225,   7485.81440139,   9331.62537763,\n",
       "        29635.54611634,  20406.49123511,  11177.43635388,  -5434.86243234,\n",
       "        22252.30221136,  35172.97904508,  25943.92416385,  14869.05830637,\n",
       "          102.5704964 ,  27789.7351401 ,  24098.1131876 ,  22252.30221136,\n",
       "        16714.86928262,  37018.79002133,  35172.97904508,  31481.35709259,\n",
       "        22252.30221136,  35172.97904508,  14869.05830637,  16714.86928262,\n",
       "        13023.24733013,  20406.49123511,   1948.38147265,   3794.19244889,\n",
       "        16714.86928262,   5640.00342514,  11177.43635388,  22252.30221136,\n",
       "        22252.30221136,   5640.00342514,  27789.7351401 ,  25943.92416385,\n",
       "        13023.24733013,  29635.54611634,   9331.62537763,  27789.7351401 ,\n",
       "        11177.43635388,  18560.68025887,  16714.86928262,  18560.68025887,\n",
       "         7485.81440139,   9331.62537763,  16714.86928262,  37018.79002133,\n",
       "        29635.54611634,  13023.24733013,  27789.7351401 ,  -1743.24047985,\n",
       "        22252.30221136,  37018.79002133, -10972.29536108,  25943.92416385,\n",
       "        18560.68025887,   7485.81440139,   5640.00342514,   7485.81440139,\n",
       "        25943.92416385,  29635.54611634,  18560.68025887,  18560.68025887,\n",
       "        31481.35709259,  37018.79002133,  37018.79002133,  27789.7351401 ,\n",
       "        14869.05830637,  -1743.24047985,    102.5704964 ,  31481.35709259,\n",
       "        29635.54611634,  33327.16806884,  37018.79002133,  20406.49123511,\n",
       "        29635.54611634,  14869.05830637,  33327.16806884,  24098.1131876 ,\n",
       "        14869.05830637,  20406.49123511,  22252.30221136,  22252.30221136,\n",
       "        20406.49123511,  33327.16806884,  27789.7351401 ,  11177.43635388,\n",
       "         9331.62537763,   3794.19244889,  16714.86928262,  20406.49123511,\n",
       "        25943.92416385,  22252.30221136,  27789.7351401 ,  37018.79002133,\n",
       "         5640.00342514,  27789.7351401 ,  31481.35709259,  20406.49123511,\n",
       "        11177.43635388,  37018.79002133,  25943.92416385,  37018.79002133,\n",
       "        22252.30221136,  31481.35709259,  35172.97904508,  22252.30221136,\n",
       "       -12818.10633732,  29635.54611634,  27789.7351401 ,  11177.43635388,\n",
       "        27789.7351401 ,  33327.16806884,   3794.19244889,  33327.16806884,\n",
       "        33327.16806884,  29635.54611634,   1948.38147265,  27789.7351401 ,\n",
       "        22252.30221136,  37018.79002133,   5640.00342514,  25943.92416385,\n",
       "        22252.30221136,  29635.54611634,  29635.54611634,  20406.49123511,\n",
       "        22252.30221136,   9331.62537763,  18560.68025887,  33327.16806884,\n",
       "        25943.92416385,  29635.54611634,  22252.30221136,   7485.81440139,\n",
       "        31481.35709259,   1948.38147265,  14869.05830637,  22252.30221136,\n",
       "        29635.54611634,  37018.79002133,  29635.54611634,  11177.43635388,\n",
       "        24098.1131876 ,    102.5704964 ,   9331.62537763,   5640.00342514,\n",
       "        18560.68025887,  20406.49123511,  -1743.24047985,  20406.49123511,\n",
       "        24098.1131876 ,  18560.68025887,   7485.81440139,  16714.86928262,\n",
       "        20406.49123511,  13023.24733013,  -1743.24047985,  22252.30221136,\n",
       "        20406.49123511,  31481.35709259,   1948.38147265,   7485.81440139,\n",
       "        -9126.48438483,  27789.7351401 ,  11177.43635388,   3794.19244889,\n",
       "        29635.54611634,  27789.7351401 ,  22252.30221136,  20406.49123511,\n",
       "        18560.68025887,  35172.97904508,   9331.62537763,  22252.30221136,\n",
       "        11177.43635388,   9331.62537763,  11177.43635388,   1948.38147265,\n",
       "         3794.19244889,  27789.7351401 ,  33327.16806884,  29635.54611634,\n",
       "        18560.68025887,  13023.24733013,    102.5704964 ,  29635.54611634,\n",
       "        20406.49123511,  31481.35709259,  18560.68025887,  20406.49123511,\n",
       "         7485.81440139,  22252.30221136,   7485.81440139,  37018.79002133,\n",
       "        33327.16806884,  13023.24733013,  13023.24733013,  14869.05830637,\n",
       "        22252.30221136,  14869.05830637,  25943.92416385,  20406.49123511,\n",
       "        27789.7351401 ,  22252.30221136,  29635.54611634,  31481.35709259,\n",
       "        29635.54611634,  27789.7351401 ,  -3589.05145609,   9331.62537763,\n",
       "        14869.05830637,   5640.00342514,  25943.92416385,  20406.49123511,\n",
       "        27789.7351401 ,  14869.05830637,  22252.30221136,  20406.49123511,\n",
       "        31481.35709259,  22252.30221136,  22252.30221136,  13023.24733013,\n",
       "        22252.30221136,  27789.7351401 ,  27789.7351401 ,  11177.43635388,\n",
       "        25943.92416385, -20201.35024231,   3794.19244889,  29635.54611634,\n",
       "        35172.97904508,  16714.86928262,   1948.38147265,  13023.24733013,\n",
       "         5640.00342514,  16714.86928262,  37018.79002133,  18560.68025887,\n",
       "        37018.79002133, -14663.91731357,  -3589.05145609,  22252.30221136,\n",
       "        22252.30221136,  31481.35709259,  18560.68025887,  20406.49123511,\n",
       "        -3589.05145609,  22252.30221136,   7485.81440139,  31481.35709259,\n",
       "       -14663.91731357,  13023.24733013,  16714.86928262,  14869.05830637,\n",
       "        31481.35709259,  14869.05830637,  31481.35709259,  37018.79002133,\n",
       "        -3589.05145609,  37018.79002133,  14869.05830637,   5640.00342514,\n",
       "         9331.62537763,  29635.54611634,  22252.30221136,  14869.05830637,\n",
       "        37018.79002133,  29635.54611634, -10972.29536108,  13023.24733013,\n",
       "         7485.81440139,  33327.16806884,  22252.30221136,  16714.86928262,\n",
       "        22252.30221136,  29635.54611634,   9331.62537763,  14869.05830637,\n",
       "        16714.86928262,  22252.30221136,  25943.92416385,   1948.38147265,\n",
       "        20406.49123511,  27789.7351401 ,  -1743.24047985,  14869.05830637,\n",
       "        -1743.24047985,  27789.7351401 ,  27789.7351401 ,  20406.49123511,\n",
       "        35172.97904508,  27789.7351401 ,   7485.81440139,  13023.24733013,\n",
       "        18560.68025887,  20406.49123511,  18560.68025887,  24098.1131876 ,\n",
       "        31481.35709259,  29635.54611634,  27789.7351401 ,   7485.81440139,\n",
       "        27789.7351401 ,  27789.7351401 ,  37018.79002133,  20406.49123511,\n",
       "        22252.30221136,  37018.79002133,  31481.35709259,  37018.79002133,\n",
       "        27789.7351401 ,  22252.30221136, -14663.91731357,  -9126.48438483,\n",
       "        25943.92416385,  25943.92416385,   9331.62537763,  25943.92416385,\n",
       "         9331.62537763,  -3589.05145609,  29635.54611634,  29635.54611634,\n",
       "        27789.7351401 ,   7485.81440139, -16509.72828982,  13023.24733013,\n",
       "        20406.49123511,  18560.68025887,  22252.30221136,  29635.54611634,\n",
       "        13023.24733013,  27789.7351401 ,  20406.49123511,  37018.79002133,\n",
       "        37018.79002133,  27789.7351401 ,  29635.54611634,  22252.30221136,\n",
       "        14869.05830637,  31481.35709259,  25943.92416385,  14869.05830637,\n",
       "        22252.30221136,   9331.62537763,  29635.54611634,  25943.92416385,\n",
       "        20406.49123511,  14869.05830637,  20406.49123511,  35172.97904508,\n",
       "        31481.35709259,  35172.97904508,  20406.49123511,  33327.16806884,\n",
       "        27789.7351401 ,  14869.05830637,  18560.68025887,  25943.92416385,\n",
       "        37018.79002133,  20406.49123511,    102.5704964 ,  18560.68025887,\n",
       "        31481.35709259,  31481.35709259,  20406.49123511,  22252.30221136,\n",
       "        37018.79002133,  20406.49123511,  16714.86928262,  37018.79002133,\n",
       "        18560.68025887,  20406.49123511,  31481.35709259,  -3589.05145609,\n",
       "        22252.30221136,  13023.24733013,  27789.7351401 ,  -5434.86243234,\n",
       "        11177.43635388,  27789.7351401 ,   9331.62537763,  37018.79002133,\n",
       "        24098.1131876 ,  27789.7351401 ,  33327.16806884,  25943.92416385,\n",
       "        -1743.24047985,  11177.43635388,  22252.30221136, -29430.40512354,\n",
       "        22252.30221136,  25943.92416385,  20406.49123511,  27789.7351401 ,\n",
       "        16714.86928262,  27789.7351401 ,   9331.62537763,   7485.81440139,\n",
       "        20406.49123511,  31481.35709259, -12818.10633732,   9331.62537763,\n",
       "         5640.00342514,   5640.00342514,  33327.16806884,  -7280.67340858,\n",
       "        22252.30221136,  27789.7351401 ,  13023.24733013,  29635.54611634,\n",
       "        37018.79002133, -29430.40512354,  25943.92416385,  20406.49123511,\n",
       "        25943.92416385,  11177.43635388,  25943.92416385,  27789.7351401 ,\n",
       "       -12818.10633732,   7485.81440139, -31276.21609979,  -1743.24047985,\n",
       "        -3589.05145609,  27789.7351401 ,  22252.30221136, -14663.91731357,\n",
       "         9331.62537763,  16714.86928262,  29635.54611634,  37018.79002133,\n",
       "        11177.43635388,  24098.1131876 ,  20406.49123511,  27789.7351401 ,\n",
       "        11177.43635388,  33327.16806884,  35172.97904508,  29635.54611634,\n",
       "        16714.86928262,  20406.49123511,  29635.54611634,  29635.54611634,\n",
       "        20406.49123511,  11177.43635388,  29635.54611634,  29635.54611634,\n",
       "        16714.86928262,  25943.92416385,  20406.49123511,  22252.30221136,\n",
       "        37018.79002133,  37018.79002133,  16714.86928262,  16714.86928262,\n",
       "         5640.00342514,  24098.1131876 ,   1948.38147265,  22252.30221136,\n",
       "        37018.79002133,  22252.30221136,  25943.92416385,  11177.43635388,\n",
       "        27789.7351401 ,  22252.30221136,  37018.79002133,  35172.97904508,\n",
       "       -18355.53926606,  22252.30221136,  16714.86928262,   7485.81440139,\n",
       "        22252.30221136,  33327.16806884,  18560.68025887,  29635.54611634,\n",
       "         5640.00342514,  33327.16806884,  20406.49123511,   1948.38147265,\n",
       "          102.5704964 ,  24098.1131876 ,  37018.79002133,  11177.43635388,\n",
       "        37018.79002133,  24098.1131876 ,   9331.62537763,  -7280.67340858,\n",
       "       -20201.35024231,  22252.30221136,  16714.86928262,  22252.30221136,\n",
       "        29635.54611634,  37018.79002133,  22252.30221136,  37018.79002133,\n",
       "        27789.7351401 ,  27789.7351401 ,  25943.92416385,  35172.97904508,\n",
       "        16714.86928262,  22252.30221136,   7485.81440139, -10972.29536108,\n",
       "        27789.7351401 ,  22252.30221136,  25943.92416385,  25943.92416385,\n",
       "        31481.35709259,  22252.30221136,  16714.86928262,  18560.68025887,\n",
       "        18560.68025887,  27789.7351401 ,  27789.7351401 ,  27789.7351401 ,\n",
       "        29635.54611634,  22252.30221136,  37018.79002133,  27789.7351401 ,\n",
       "        35172.97904508,  27789.7351401 ,  22252.30221136,  18560.68025887,\n",
       "        25943.92416385,  16714.86928262,  22252.30221136,    102.5704964 ,\n",
       "        25943.92416385,  -3589.05145609, -16509.72828982,   7485.81440139,\n",
       "         9331.62537763,  37018.79002133,  18560.68025887,  -5434.86243234,\n",
       "        18560.68025887,  14869.05830637, -12818.10633732,  20406.49123511,\n",
       "        22252.30221136,  16714.86928262,  14869.05830637,  -1743.24047985,\n",
       "        27789.7351401 ,  27789.7351401 ,  -1743.24047985,  37018.79002133,\n",
       "        13023.24733013,  29635.54611634,    102.5704964 ,    102.5704964 ,\n",
       "       -10972.29536108,  22252.30221136,  13023.24733013,  33327.16806884,\n",
       "        31481.35709259,  25943.92416385,  22252.30221136,  18560.68025887,\n",
       "        25943.92416385,  24098.1131876 ,  27789.7351401 ,  27789.7351401 ,\n",
       "        22252.30221136,    102.5704964 ,  -1743.24047985,  22252.30221136,\n",
       "        31481.35709259,  13023.24733013,  11177.43635388,  18560.68025887,\n",
       "         7485.81440139,   7485.81440139,  20406.49123511,  25943.92416385,\n",
       "        20406.49123511])"
      ]
     },
     "execution_count": 51,
     "metadata": {},
     "output_type": "execute_result"
    }
   ],
   "source": [
    "y_predict = model.predict(x_test) \n",
    "y_predict"
   ]
  },
  {
   "cell_type": "code",
   "execution_count": 52,
   "metadata": {},
   "outputs": [
    {
     "data": {
      "text/plain": [
       "array([ 56000.  ,  22800.  ,   5700.  ,   3300.  ,   2700.  ,  55500.  ,\n",
       "         8200.  ,   9000.  ,   3300.  ,  43500.  ,   2900.  ,  20999.  ,\n",
       "        19500.  ,  15900.  ,   7000.  ,   8500.  ,  10500.  ,  22900.  ,\n",
       "        11000.  ,  13500.  ,   9999.  ,  22600.  ,   3399.  ,   4350.  ,\n",
       "         4500.  ,  11900.  ,  23000.  ,  71138.  ,  41500.  ,  18000.  ,\n",
       "         7000.  ,   9200.  ,  25999.  ,   7000.  ,   9300.  ,   3600.  ,\n",
       "        10000.  ,  29900.  ,   8900.  ,  23400.  ,   2150.  , 140000.  ,\n",
       "         5000.  ,  23400.  ,  15300.  ,   5800.  ,   6900.  ,  32000.  ,\n",
       "         1950.  ,   2350.  ,  17700.  ,   6800.  ,   7300.  ,   3100.  ,\n",
       "         7900.  ,   4299.  ,  22000.  ,  21900.  ,   1950.  ,  11500.  ,\n",
       "        10300.  ,   8420.  ,   5400.  ,  85900.  ,  13600.  ,   8900.  ,\n",
       "         5999.  ,   6700.  ,   7900.  ,   9000.  ,  25500.  ,  29040.  ,\n",
       "         5400.  ,   7950.  ,  13300.  ,   3300.  ,   7000.  ,   8500.  ,\n",
       "        17500.  ,  10500.  ,   9800.  ,  28500.  ,   7100.  ,  28500.  ,\n",
       "        19999.  ,   4900.  ,   3500.  ,   8100.  ,  58500.  ,   8950.  ,\n",
       "        35500.  ,   2900.  ,   4900.  ,  10799.  ,   4000.  ,  14900.  ,\n",
       "        47500.  ,   2100.  ,  12250.  ,  74999.  ,  32400.  ,  58500.  ,\n",
       "         9800.  ,   4299.  ,   6300.  ,  12000.  ,  20200.  ,  20900.  ,\n",
       "        56800.  ,   9000.  ,   6600.  ,  38500.  ,  15700.  ,  75500.  ,\n",
       "        17500.  , 219900.  ,  32000.  , 250000.  ,   3850.  ,  25000.  ,\n",
       "         7000.  ,   9600.  ,   5000.  ,  10200.  ,  32000.  ,   6700.  ,\n",
       "         8400.  ,  22000.  ,  31000.  ,  28500.  ,   1800.  ,   3950.  ,\n",
       "        14900.  ,   8200.  ,   7600.  ,  11700.  ,   6750.  ,   2750.  ,\n",
       "         9750.  ,  33200.  ,   7700.  ,  15900.  ,  29900.  ,   2350.  ,\n",
       "        41900.  ,   7950.  ,   8300.  , 124999.  ,  10000.  ,  65000.  ,\n",
       "        10500.  , 295000.  ,  10500.  ,  12900.  ,   6900.  ,   8700.  ,\n",
       "        10399.  ,   3100.  ,   3200.  ,   8300.  , 116500.  ,  18200.  ,\n",
       "        12100.  ,   9999.  ,   9600.  ,  10600.  ,   4200.  ,   5999.  ,\n",
       "        18100.  ,  72000.  ,  14800.  ,   9800.  ,  10300.  ,  55000.  ,\n",
       "        12900.  ,   5500.  ,   7100.  ,   5300.  ,   5000.  ,   9658.94,\n",
       "        13200.  ,  67500.  ,   5800.  ,  34000.  ,  28700.  ,  12000.  ,\n",
       "         6000.  ,  10600.  ,  11600.  ,  12114.35,  42000.  ,   8500.  ,\n",
       "         8900.  ,  17000.  ,   6200.  ,   4500.  ,   7600.  ,   1850.  ,\n",
       "         4500.  ,  10800.  ,  10300.  ,   7300.  ,  13800.  ,   2299.  ,\n",
       "         9400.  ,   9000.  ,   8800.  ,  15200.  ,   6000.  ,  30950.  ,\n",
       "        13300.  ,   8300.  ,  19999.  ,   8999.  , 164500.  ,  52000.  ,\n",
       "         5500.  ,   8500.  ,  11200.  ,  16800.  ,   2990.  ,  13000.  ,\n",
       "         7000.  ,  11300.  ,  16800.  ,   8500.  ,  35000.  ,  18800.  ,\n",
       "         6500.  ,  34999.  ,   4400.  ,   8200.  ,  10888.  ,   7550.  ,\n",
       "        11500.  ,   3000.  ,   8200.  ,  63000.  ,  17500.  ,   6500.  ,\n",
       "         7200.  ,   8900.  ,  29000.  ,   9200.  ,  10000.  ,  40800.  ,\n",
       "        58000.  ,  22100.  ,   9300.  , 125000.  ,  14200.  ,   6200.  ,\n",
       "        12500.  ,  48900.  ,   7650.  ,   2250.  ,  16500.  ,  18000.  ,\n",
       "         3550.  ,  34999.  ,  12000.  ,   2900.  ,  18999.  ,  15800.  ,\n",
       "        17200.  ,  19900.  ,   8999.  ,  14500.  ,   2300.  ,  13500.  ,\n",
       "        18900.  ,   6800.  ,   4900.  ,   8900.  ,  14200.  ,  13300.95,\n",
       "        11600.  ,   9300.  ,  28000.  ,   6399.  ,  15850.  ,  86000.  ,\n",
       "         3200.  ,  20500.  ,  16300.  ,   7400.  ,   7000.  ,   5300.  ,\n",
       "        38700.  ,  12750.  ,   6500.  ,  20900.  ,  22500.  ,  38365.  ,\n",
       "        15820.35,  11950.  ,  15000.  ,   6000.  ,   6100.  ,  12500.  ,\n",
       "         9500.  ,  31700.  ,  47500.  ,  23400.  ,  36800.  ,  11900.  ,\n",
       "        16900.  ,  21900.  ,   7500.  ,   8400.  ,  10200.  ,  15000.  ,\n",
       "         9900.  ,  48000.  ,  12350.  ,   9000.  ,   3550.  ,   2100.  ,\n",
       "         7750.  ,  21300.  ,  13850.  ,  15300.  ,  32800.  ,  39500.  ,\n",
       "         3500.  ,  11700.  ,  10500.  ,   8000.  ,  12500.  ,  34899.14,\n",
       "        38500.  ,  27565.2 ,  16500.  ,   8500.  ,  25800.  ,  11100.  ,\n",
       "         2900.  ,   8910.53,   4999.  ,  12500.  ,  20800.  ,  11818.95,\n",
       "         4100.  ,  47000.  ,  39900.  ,   5950.  ,   4000.  ,  48900.  ,\n",
       "        17499.  , 199999.  ,   6500.  ,  22000.  ,  11500.  ,  10900.  ,\n",
       "        10900.  ,  15400.  ,   9700.  ,   2800.  ,  10600.  ,  44800.  ,\n",
       "        12350.  ,  15000.  ,  13499.  ,  12200.  ,  18800.  ,  15000.  ,\n",
       "         7700.  ,  28500.  ,  57000.  ,  47300.  ,  34500.  ,   2800.  ,\n",
       "        13999.  ,   5000.  ,   3000.  ,   8700.  ,   6950.  ,   9900.  ,\n",
       "         5300.  ,  21500.  ,  17300.  ,   6650.  ,   8700.  ,   5200.  ,\n",
       "        17000.  ,  13500.  ,   6800.  ,  15200.  ,  28500.  ,   8299.  ,\n",
       "         6900.  ,   3799.  ,   4000.  ,   8500.  ,   3000.  ,   7000.  ,\n",
       "        13200.  ,  23500.  ,   8650.  ,  17900.  ,  11500.  ,  24193.65,\n",
       "        19000.  ,  24990.  ,   4300.  ,   6500.  ,   5400.  ,   2200.  ,\n",
       "         6300.  ,  28700.  ,  47500.  ,   9000.  ,  40000.  ,   6200.  ,\n",
       "         4600.  ,  10100.  ,  12900.  ,  62000.  ,   4800.  ,   5700.  ,\n",
       "         5300.  ,   7800.  ,   2499.  , 137000.  ,  13500.  ,   5800.  ,\n",
       "         8900.  ,  13500.  ,   8500.  ,  10500.  ,  23500.  ,   8000.  ,\n",
       "        18300.  ,  13600.  ,   9999.  ,  49700.  ,  21999.  ,  12700.  ,\n",
       "         3600.  ,   4900.  ,   3700.  ,   4700.  ,   9200.  ,  49900.  ,\n",
       "        32300.  ,   9999.  ,  13300.  ,  12500.  ,  32950.  ,  11500.  ,\n",
       "        17900.  ,   2150.  ,   7500.  ,  11900.  ,  22500.  ,  19800.  ,\n",
       "        28000.  ,   6000.  ,   1550.  ,  14900.  ,  85555.  ,  10000.  ,\n",
       "         6700.  ,   6800.  ,   6800.  ,  10200.  ,  62999.  ,  20800.  ,\n",
       "       104999.  ,   3500.  ,   6500.  ,  26900.  ,   8900.  ,  68500.  ,\n",
       "        20500.  ,  11900.  ,   6000.  ,  12900.  ,   7400.  ,  21000.  ,\n",
       "         2600.  ,   3250.  ,   8100.  ,   8899.  ,  34400.  ,   8000.  ,\n",
       "        13900.  ,  13300.95,   1500.  ,  65099.  ,  11300.  ,   5500.  ,\n",
       "         3600.  ,  11500.  ,  26900.  ,   4200.  ,  16999.  ,  23600.  ,\n",
       "         3700.  ,   9700.  ,   3200.  ,  47000.  ,  35000.  ,   8400.  ,\n",
       "        10800.  ,   6450.  ,   7700.  ,  13200.  ,  18777.  ,  29500.  ,\n",
       "        16500.  ,   5700.  ,  25000.  ,  27800.  ,   3750.  ,  12500.  ,\n",
       "         3990.  ,  11500.  ,  16000.  ,   8200.  ,  72900.  ,  10650.  ,\n",
       "         6000.  ,   9800.  ,   8750.  ,  22700.  ,  13400.  ,   9800.  ,\n",
       "        13600.  ,  21500.  ,  18990.  ,  20000.  ,   8400.  ,  22800.  ,\n",
       "       222000.  ,  15000.  ,  13500.  , 115800.  ,  22900.  ,  81999.  ,\n",
       "        27500.  ,   6300.  ,   2100.  ,   3100.  ,  36000.  ,  47700.  ,\n",
       "         9800.  ,   6700.  ,   4100.  ,   5800.  ,  45200.  ,  12179.  ,\n",
       "        11850.  ,   2899.  ,   2411.  ,  11900.  ,  26900.  ,  10200.  ,\n",
       "        21500.  ,  11200.  ,   4900.  ,  18100.  ,  15900.  ,  42900.  ,\n",
       "        65000.  ,  16999.  ,   8800.  ,  24300.  ,   8300.  , 115000.  ,\n",
       "         8900.  ,  12000.  ,  21999.  ,   8899.  ,   7200.  ,  18400.  ,\n",
       "         8500.  ,   8150.  ,  12700.  ,  32000.  ,  16800.  ,  38888.  ,\n",
       "        10500.  ,  39999.  ,  21800.  ,   6750.  ,   8900.  ,  35900.  ,\n",
       "        42000.  ,  17300.  ,   3500.  ,   9850.  ,  55555.  ,  15200.  ,\n",
       "        25500.  ,  10500.  ,  66346.  ,   9999.  ,  13000.  ,  64500.  ,\n",
       "        20500.  ,  12500.  ,  22800.  ,   5500.  ,  12700.  ,  15300.  ,\n",
       "        20500.  ,   4100.  ,   2600.  ,  12900.  ,   6699.  ,  15672.15,\n",
       "        12900.  ,  22000.  ,  72000.  ,  36500.  ,   3700.  ,   9000.  ,\n",
       "         7500.  ,   1296.75,  15500.  ,  33000.  ,  22500.  ,  20400.  ,\n",
       "         8100.  ,  23500.  ,   3050.  ,   4500.  ,  15499.  ,  52300.  ,\n",
       "         2900.  ,   9900.  ,   9500.  ,   4000.  ,  13500.  ,   1500.  ,\n",
       "         8500.  ,  39000.  ,  12600.  ,  17500.  ,  77500.  ,   7777.  ,\n",
       "        12750.  ,   8400.  ,   9700.  ,  30500.  ,  16800.  ,  10500.  ,\n",
       "         3600.  ,  11500.  ,   2990.  ,   2100.  ,   1550.  ,  12000.  ,\n",
       "        10000.  ,   2700.  ,  13000.  ,  16800.  ,  28500.  ,  43000.  ,\n",
       "         2400.  ,  12200.  ,  21700.  ,  16000.  ,   6200.  ,  75555.  ,\n",
       "       133000.  ,  14500.  ,  18900.  ,  18900.  ,  11700.  ,  26200.  ,\n",
       "        12400.  ,   8800.  , 300000.  ,  14200.  ,  15800.  ,  10850.  ,\n",
       "         6250.  ,  22000.  ,  11403.99,  44000.  ,  17600.  ,  18000.  ,\n",
       "         8000.  ,  17999.  ,   6990.  ,  14500.  , 107999.  ,   9000.  ,\n",
       "        17950.  ,   5300.  ,  25000.  ,  22500.  ,  47600.  ,  50250.  ,\n",
       "         1550.  ,  15900.  ,  12900.  ,   1750.  ,  32500.  , 129999.  ,\n",
       "         7900.  ,   9850.  ,   6300.  ,  69500.  ,   9400.  ,   2700.  ,\n",
       "         3200.  ,  12399.  ,  66666.  ,  10800.  ,  46500.  ,  18800.  ,\n",
       "         5700.  ,   3300.  ,   2200.  ,   9900.  ,   7600.  ,  15999.  ,\n",
       "        47777.  ,  22711.65,   9700.  , 105999.  ,  36400.  ,   9999.  ,\n",
       "        10700.  ,  39000.  ,   6400.  ,  22999.  ,   2550.  ,   4700.  ,\n",
       "         6300.  ,  21335.  ,  40500.  ,   7199.  ,  15500.  ,   9150.  ,\n",
       "        13999.  ,  15500.  ,  14300.  ,  20300.  ,  39999.  ,  60500.  ,\n",
       "         6700.  ,  11499.  , 109999.  ,  19000.  , 169000.  ,  28500.  ,\n",
       "         5200.  ,  18500.  ,  32500.  ,  10500.  ,   4900.  ,   1800.  ,\n",
       "         9350.  ,   4800.  ,   2650.  ,   3500.  ,   3200.  , 102999.  ,\n",
       "        14899.  ,   4300.  ,   4900.  ,   8500.  ,   2400.  ,   7200.  ,\n",
       "         9999.  ,   9500.  ,  14500.  ,   6300.  ,  10600.  ,   9000.  ,\n",
       "         1650.  , 199999.  ,   9500.  ,  14500.  ,   4500.  ,   5200.  ,\n",
       "         2800.  ,   5950.  ,   4300.  ,  39999.  ,  13900.  ,  10700.  ,\n",
       "        13900.  ,   6300.  ,  34500.  ,   8900.  ,  44999.  ,  12500.  ,\n",
       "        13300.  ,   8400.  ,   2800.  ,   7500.  ,  15800.  ,   8900.  ,\n",
       "         5650.  ,  20500.  ,   3300.  ,   4999.  ,  21000.  ,   9800.  ,\n",
       "        22500.  ])"
      ]
     },
     "execution_count": 52,
     "metadata": {},
     "output_type": "execute_result"
    }
   ],
   "source": [
    "y_test"
   ]
  },
  {
   "cell_type": "code",
   "execution_count": 53,
   "metadata": {},
   "outputs": [
    {
     "name": "stdout",
     "output_type": "stream",
     "text": [
      "Testing Accuracy: 19.64145015307529%\n"
     ]
    }
   ],
   "source": [
    "print(f'Testing Accuracy: {model.score(x_test, y_test)*100}%')"
   ]
  },
  {
   "cell_type": "code",
   "execution_count": 58,
   "metadata": {},
   "outputs": [
    {
     "name": "stdout",
     "output_type": "stream",
     "text": [
      "Training Accuracy: 25.01037713893206%\n"
     ]
    }
   ],
   "source": [
    "print(f'Training Accuracy: {model.score(x_train, y_train)*100}%')"
   ]
  },
  {
   "cell_type": "code",
   "execution_count": 56,
   "metadata": {},
   "outputs": [
    {
     "data": {
      "image/png": "[encoded data removed]",
      "text/plain": [
       "<Figure size 432x288 with 1 Axes>"
      ]
     },
     "metadata": {
      "needs_background": "light"
     },
     "output_type": "display_data"
    }
   ],
   "source": [
    "%matplotlib inline\n",
    "plt.scatter(x_train, y_train, color='blue')\n",
    "plt.scatter(x_test, y_test, color='y')\n",
    "plt.plot(x_test, y_predict, color='red')\n",
    "plt.xlabel('Year')\n",
    "plt.ylabel('Price')\n",
    "plt.title('Training Data')\n",
    "plt.show()\n"
   ]
  },
  {
   "cell_type": "markdown",
   "metadata": {},
   "source": [
    "- the less of the age of the care, the high price it becomes \n",
    "- Test accuracy is about 19 % while train accuracy is about 25 %\n"
   ]
  },
  {
   "cell_type": "code",
   "execution_count": null,
   "metadata": {},
   "outputs": [],
   "source": []
  }
 ],
 "metadata": {
  "kernelspec": {
   "display_name": "Python 3",
   "language": "python",
   "name": "python3"
  },
  "language_info": {
   "codemirror_mode": {
    "name": "ipython",
    "version": 3
   },
   "file_extension": ".py",
   "mimetype": "text/x-python",
   "name": "python",
   "nbconvert_exporter": "python",
   "pygments_lexer": "ipython3",
   "version": "3.9.0"
  }
 },
 "nbformat": 4,
 "nbformat_minor": 4
}
